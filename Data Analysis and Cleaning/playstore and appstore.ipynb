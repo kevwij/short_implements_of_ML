{
 "cells": [
  {
   "cell_type": "markdown",
   "metadata": {},
   "source": [
    "# TITLE\n",
    "\n",
    "About the Project:\n",
    "\n",
    "Project Goal:"
   ]
  },
  {
   "cell_type": "code",
   "execution_count": 18,
   "metadata": {
    "collapsed": true
   },
   "outputs": [],
   "source": [
    "def explore_data(dataset, start, end, rows_and_columns=False):\n",
    "    dataset_slice = dataset[start:end]\n",
    "    for row in dataset_slice:\n",
    "        print(row)\n",
    "        print('\\n') # adds a new (empty) line after each row\n",
    "        \n",
    "    if rows_and_columns:\n",
    "        print('Number of rows:', len(dataset))\n",
    "        print('Number of columns:', len(dataset[0]))"
   ]
  },
  {
   "cell_type": "code",
   "execution_count": 19,
   "metadata": {
    "collapsed": false
   },
   "outputs": [],
   "source": [
    "open_applestore = open('AppleStore.csv', encoding='utf8')\n",
    "open_playstore = open('googleplaystore.csv')\n",
    "from csv import reader\n",
    "read_applestore = reader(open_applestore)\n",
    "read_playstore = reader(open_playstore)\n",
    "playlist = list(read_playstore)\n",
    "applelist = list(read_applestore)"
   ]
  },
  {
   "cell_type": "code",
   "execution_count": 20,
   "metadata": {
    "collapsed": false
   },
   "outputs": [
    {
     "name": "stdout",
     "output_type": "stream",
     "text": [
      "['App', 'Category', 'Rating', 'Reviews', 'Size', 'Installs', 'Type', 'Price', 'Content Rating', 'Genres', 'Last Updated', 'Current Ver', 'Android Ver']\n",
      "\n",
      "\n",
      "['Photo Editor & Candy Camera & Grid & ScrapBook', 'ART_AND_DESIGN', '4.1', '159', '19M', '10,000+', 'Free', '0', 'Everyone', 'Art & Design', 'January 7, 2018', '1.0.0', '4.0.3 and up']\n",
      "\n",
      "\n",
      "['Coloring book moana', 'ART_AND_DESIGN', '3.9', '967', '14M', '500,000+', 'Free', '0', 'Everyone', 'Art & Design;Pretend Play', 'January 15, 2018', '2.0.0', '4.0.3 and up']\n",
      "\n",
      "\n",
      "Number of rows: 10842\n",
      "Number of columns: 13\n"
     ]
    }
   ],
   "source": [
    "explore_data(playlist, 0, 3, True)"
   ]
  },
  {
   "cell_type": "code",
   "execution_count": 21,
   "metadata": {
    "collapsed": false
   },
   "outputs": [
    {
     "name": "stdout",
     "output_type": "stream",
     "text": [
      "['id', 'track_name', 'size_bytes', 'currency', 'price', 'rating_count_tot', 'rating_count_ver', 'user_rating', 'user_rating_ver', 'ver', 'cont_rating', 'prime_genre', 'sup_devices.num', 'ipadSc_urls.num', 'lang.num', 'vpp_lic']\n",
      "\n",
      "\n",
      "['284882215', 'Facebook', '389879808', 'USD', '0.0', '2974676', '212', '3.5', '3.5', '95.0', '4+', 'Social Networking', '37', '1', '29', '1']\n",
      "\n",
      "\n",
      "['389801252', 'Instagram', '113954816', 'USD', '0.0', '2161558', '1289', '4.5', '4.0', '10.23', '12+', 'Photo & Video', '37', '0', '29', '1']\n",
      "\n",
      "\n",
      "Number of rows: 7198\n",
      "Number of columns: 16\n"
     ]
    }
   ],
   "source": [
    "explore_data(applelist,0,3,True)"
   ]
  },
  {
   "cell_type": "code",
   "execution_count": 22,
   "metadata": {
    "collapsed": false
   },
   "outputs": [],
   "source": [
    "# Deleting Row(s) that have different number of columns as Header\n",
    "count = 0\n",
    "for x in playlist:\n",
    "    if len(x) != len(playlist[0]):\n",
    "        del playlist[count]\n",
    "    count += 1\n",
    "\n",
    "count = 0\n",
    "for x in applelist:\n",
    "    if len(x) != len(applelist[0]):\n",
    "        del applelist[count]\n",
    "    count += 1"
   ]
  },
  {
   "cell_type": "code",
   "execution_count": 23,
   "metadata": {
    "collapsed": false
   },
   "outputs": [
    {
     "name": "stdout",
     "output_type": "stream",
     "text": [
      "Playstore\n",
      "Number of Duplicate apps:  1181\n",
      "\n",
      "\n",
      "A few names of duplicate apps:  ['Quick PDF Scanner + OCR FREE', 'Box', 'Google My Business', 'ZOOM Cloud Meetings', 'join.me - Simple Meetings', 'Box', 'Zenefits', 'Google Ads', 'Google My Business', 'Slack', 'FreshBooks Classic', 'Insightly CRM', 'QuickBooks Accounting: Invoicing & Expenses', 'HipChat - Chat Built for Teams', 'Xero Accounting Software']\n",
      "\n",
      "\n",
      "Applestore\n",
      "Number of Duplicate apps:  2\n",
      "\n",
      "\n",
      "A few names of duplicate apps:  ['Mannequin Challenge', 'VR Roller Coaster']\n"
     ]
    }
   ],
   "source": [
    "# Separating duplicate and unique apps in a List\n",
    "def DupliUnique(aplist, namecolumn):\n",
    "    uniquelist = []\n",
    "    duplilist = []\n",
    "    for app in aplist:\n",
    "        appname = app[namecolumn]\n",
    "        if appname in uniquelist:\n",
    "            duplilist.append(appname)\n",
    "        else:\n",
    "            uniquelist.append(appname)\n",
    "    \n",
    "    print('Number of Duplicate apps: ',len(duplilist))\n",
    "    print('\\n')\n",
    "    print('A few names of duplicate apps: ',duplilist[:15])\n",
    "\n",
    "print('Playstore')\n",
    "DupliUnique(playlist, 0)\n",
    "print('\\n')\n",
    "print('Applestore')\n",
    "DupliUnique(applelist, 1)\n",
    "    "
   ]
  },
  {
   "cell_type": "code",
   "execution_count": 24,
   "metadata": {
    "collapsed": false
   },
   "outputs": [
    {
     "name": "stdout",
     "output_type": "stream",
     "text": [
      "Expected Length: 9659\n",
      "9659\n",
      "9659\n"
     ]
    }
   ],
   "source": [
    "reviews_max = {}\n",
    "for x in playlist[1:]:\n",
    "    name = x[0]\n",
    "    n_reviews = x[3]\n",
    "    if (name in reviews_max and reviews_max[name] < n_reviews) or name not in reviews_max:\n",
    "        reviews_max[name] = n_reviews\n",
    "\n",
    "print('Expected Length:', len(playlist[1:]) - 1181)\n",
    "print(len(reviews_max))\n",
    "\n",
    "android_clean = []\n",
    "already_added = []\n",
    "\n",
    "for x in playlist[1:]:\n",
    "    name = x[0]\n",
    "    n_reviews = x[3]\n",
    "    if n_reviews == reviews_max[name] and name not in already_added:\n",
    "        android_clean.append(x)\n",
    "        already_added.append(name)\n",
    "        \n",
    "print(len(android_clean))\n",
    "        \n",
    "    "
   ]
  },
  {
   "cell_type": "code",
   "execution_count": 25,
   "metadata": {
    "collapsed": false
   },
   "outputs": [
    {
     "name": "stdout",
     "output_type": "stream",
     "text": [
      "True\n",
      "False\n",
      "True\n",
      "True\n",
      "8482\n",
      "128540\n",
      "English Playstore Apps: 9614\n",
      "English Appstore Apps: 6183\n"
     ]
    }
   ],
   "source": [
    "def englishchar(sen):\n",
    "    count = 0\n",
    "    for x in sen:\n",
    "        if ord(x) > 127:\n",
    "            count += 1\n",
    "        if ord(x) > 127 and count > 3:\n",
    "            return False\n",
    "    return True\n",
    "\n",
    "print(englishchar('Insta'))\n",
    "print(englishchar('PPS -《欢乐颂2》电视剧热播'))\n",
    "print(englishchar('Docs To Go™ Free Office Suite'))\n",
    "print(englishchar('Instachat 😜'))\n",
    "print(ord('™'))\n",
    "print(ord('😜'))\n",
    "\n",
    "ENplaystore = []\n",
    "ENappstore = []\n",
    "\n",
    "for x in android_clean:\n",
    "    name = x[0]\n",
    "    if englishchar(name):\n",
    "        ENplaystore.append(x)\n",
    "        \n",
    "print('English Playstore Apps:',len(ENplaystore))\n",
    "        \n",
    "for x in applelist[1:]:\n",
    "    name = x[1]\n",
    "    if englishchar(name):\n",
    "        ENappstore.append(x)\n",
    "        \n",
    "print('English Appstore Apps:',len(ENappstore))"
   ]
  },
  {
   "cell_type": "code",
   "execution_count": 26,
   "metadata": {
    "collapsed": false
   },
   "outputs": [
    {
     "name": "stdout",
     "output_type": "stream",
     "text": [
      "Free English Playstore Apps:  8862\n",
      "Free English Appstore Apps:  3222\n"
     ]
    }
   ],
   "source": [
    "FreeENPlay = []\n",
    "FreeENApp = []\n",
    "for y in ENplaystore:\n",
    "    price = y[7]\n",
    "    if price == '0':\n",
    "        FreeENPlay.append(y)\n",
    "        \n",
    "for y in ENappstore:\n",
    "    price = y[4]\n",
    "    if price == '0.0':\n",
    "        FreeENApp.append(y)\n",
    "        \n",
    "print('Free English Playstore Apps: ',len(FreeENPlay))\n",
    "print('Free English Appstore Apps: ',len(FreeENApp))"
   ]
  },
  {
   "cell_type": "markdown",
   "metadata": {},
   "source": [
    "Our aim is to determine the kinds of apps that are likely to attract more users because our revenue is highly influenced by the number of people using our apps.\n",
    "\n",
    "To minimize risks and overhead, our validation strategy for an app idea is comprised of three steps:\n",
    "\n",
    "Build a minimal Android version of the app, and add it to Google Play.\n",
    "If the app has a good response from users, we develop it further.\n",
    "If the app is profitable after six months, we build an iOS version of the app and add it to the App Store.\n",
    "Because our end goal is to add the app on both Google Play and the App Store, we need to find app profiles that are successful on both markets."
   ]
  },
  {
   "cell_type": "code",
   "execution_count": 27,
   "metadata": {
    "collapsed": false,
    "scrolled": true
   },
   "outputs": [
    {
     "name": "stdout",
     "output_type": "stream",
     "text": [
      "PlayStore Category\n",
      "FAMILY : 18.934777702550214\n",
      "GAME : 9.693071541412774\n",
      "TOOLS : 8.451816745655607\n",
      "BUSINESS : 4.5926427443015125\n",
      "LIFESTYLE : 3.9043105393816293\n",
      "PRODUCTIVITY : 3.8930264048747465\n",
      "FINANCE : 3.7011961182577298\n",
      "MEDICAL : 3.5206499661475967\n",
      "SPORTS : 3.39652448657188\n",
      "PERSONALIZATION : 3.3175355450236967\n",
      "COMMUNICATION : 3.238546603475513\n",
      "HEALTH_AND_FITNESS : 3.080568720379147\n",
      "PHOTOGRAPHY : 2.945159106296547\n",
      "NEWS_AND_MAGAZINES : 2.798465357707064\n",
      "SOCIAL : 2.663055743624464\n",
      "TRAVEL_AND_LOCAL : 2.335815842924848\n",
      "SHOPPING : 2.2455427668697814\n",
      "BOOKS_AND_REFERENCE : 2.143985556307831\n",
      "DATING : 1.8618821936357481\n",
      "VIDEO_PLAYERS : 1.7941773865944481\n",
      "MAPS_AND_NAVIGATION : 1.399232678853532\n",
      "FOOD_AND_DRINK : 1.2412547957571656\n",
      "EDUCATION : 1.1735499887158656\n",
      "ENTERTAINMENT : 0.9591514330850823\n",
      "LIBRARIES_AND_DEMO : 0.9365831640713158\n",
      "AUTO_AND_VEHICLES : 0.9252990295644324\n",
      "HOUSE_AND_HOME : 0.8237418190024826\n",
      "WEATHER : 0.8011735499887158\n",
      "EVENTS : 0.7109004739336493\n",
      "PARENTING : 0.6544798013992327\n",
      "ART_AND_DESIGN : 0.6431956668923494\n",
      "COMICS : 0.6206273978785828\n",
      "BEAUTY : 0.598059128864816\n",
      "\n",
      "\n",
      "PlayStore Genre\n",
      "Tools : 8.440532611148726\n",
      "Entertainment : 6.070864364703228\n",
      "Education : 5.348679756262695\n",
      "Business : 4.5926427443015125\n",
      "Productivity : 3.8930264048747465\n",
      "Lifestyle : 3.8930264048747465\n",
      "Finance : 3.7011961182577298\n",
      "Medical : 3.5206499661475967\n",
      "Sports : 3.4642292936131795\n",
      "Personalization : 3.3175355450236967\n",
      "Communication : 3.238546603475513\n",
      "Action : 3.1031369893929135\n",
      "Health & Fitness : 3.080568720379147\n",
      "Photography : 2.945159106296547\n",
      "News & Magazines : 2.798465357707064\n",
      "Social : 2.663055743624464\n",
      "Travel & Local : 2.324531708417964\n",
      "Shopping : 2.2455427668697814\n",
      "Books & Reference : 2.143985556307831\n",
      "Simulation : 2.0424283457458814\n",
      "Dating : 1.8618821936357481\n",
      "Arcade : 1.8505980591288649\n",
      "Video Players & Editors : 1.7716091175806816\n",
      "Casual : 1.7490408485669149\n",
      "Maps & Navigation : 1.399232678853532\n",
      "Food & Drink : 1.2412547957571656\n",
      "Puzzle : 1.128413450688332\n",
      "Racing : 0.9930038366057323\n",
      "Role Playing : 0.9365831640713158\n",
      "Libraries & Demo : 0.9365831640713158\n",
      "Auto & Vehicles : 0.9252990295644324\n",
      "Strategy : 0.9140148950575491\n",
      "House & Home : 0.8237418190024826\n",
      "Weather : 0.8011735499887158\n",
      "Events : 0.7109004739336493\n",
      "Adventure : 0.6770480704129994\n",
      "Comics : 0.6093432633716994\n",
      "Beauty : 0.598059128864816\n",
      "Art & Design : 0.598059128864816\n",
      "Parenting : 0.49650191830286616\n",
      "Card : 0.4400812457684496\n",
      "Casino : 0.4287971112615662\n",
      "Trivia : 0.41751297675468296\n",
      "Educational;Education : 0.3949447077409162\n",
      "Educational : 0.3723764387271496\n",
      "Board : 0.3723764387271496\n",
      "Education;Education : 0.3385240352064997\n",
      "Word : 0.2595350936583164\n",
      "Casual;Pretend Play : 0.23696682464454977\n",
      "Music : 0.2031144211238998\n",
      "Puzzle;Brain Games : 0.18054615211013314\n",
      "Racing;Action & Adventure : 0.16926201760324985\n",
      "Entertainment;Music & Video : 0.16926201760324985\n",
      "Casual;Brain Games : 0.13540961408259986\n",
      "Casual;Action & Adventure : 0.13540961408259986\n",
      "Arcade;Action & Adventure : 0.12412547957571654\n",
      "Action;Action & Adventure : 0.1015572105619499\n",
      "Educational;Pretend Play : 0.09027307605506657\n",
      "Board;Brain Games : 0.09027307605506657\n",
      "Simulation;Action & Adventure : 0.07898894154818326\n",
      "Parenting;Education : 0.07898894154818326\n",
      "Entertainment;Brain Games : 0.07898894154818326\n",
      "Parenting;Music & Video : 0.06770480704129993\n",
      "Educational;Brain Games : 0.06770480704129993\n",
      "Casual;Creativity : 0.06770480704129993\n",
      "Art & Design;Creativity : 0.06770480704129993\n",
      "Education;Pretend Play : 0.056420672534416606\n",
      "Role Playing;Pretend Play : 0.045136538027533285\n",
      "Education;Creativity : 0.045136538027533285\n",
      "Role Playing;Action & Adventure : 0.033852403520649964\n",
      "Puzzle;Action & Adventure : 0.033852403520649964\n",
      "Entertainment;Creativity : 0.033852403520649964\n",
      "Entertainment;Action & Adventure : 0.033852403520649964\n",
      "Educational;Creativity : 0.033852403520649964\n",
      "Educational;Action & Adventure : 0.033852403520649964\n",
      "Education;Music & Video : 0.033852403520649964\n",
      "Education;Brain Games : 0.033852403520649964\n",
      "Education;Action & Adventure : 0.033852403520649964\n",
      "Adventure;Action & Adventure : 0.033852403520649964\n",
      "Video Players & Editors;Music & Video : 0.022568269013766643\n",
      "Sports;Action & Adventure : 0.022568269013766643\n",
      "Simulation;Pretend Play : 0.022568269013766643\n",
      "Puzzle;Creativity : 0.022568269013766643\n",
      "Music;Music & Video : 0.022568269013766643\n",
      "Entertainment;Pretend Play : 0.022568269013766643\n",
      "Casual;Education : 0.022568269013766643\n",
      "Board;Action & Adventure : 0.022568269013766643\n",
      "Video Players & Editors;Creativity : 0.011284134506883321\n",
      "Trivia;Education : 0.011284134506883321\n",
      "Travel & Local;Action & Adventure : 0.011284134506883321\n",
      "Tools;Education : 0.011284134506883321\n",
      "Strategy;Education : 0.011284134506883321\n",
      "Strategy;Creativity : 0.011284134506883321\n",
      "Strategy;Action & Adventure : 0.011284134506883321\n",
      "Simulation;Education : 0.011284134506883321\n",
      "Role Playing;Brain Games : 0.011284134506883321\n",
      "Racing;Pretend Play : 0.011284134506883321\n",
      "Puzzle;Education : 0.011284134506883321\n",
      "Parenting;Brain Games : 0.011284134506883321\n",
      "Music & Audio;Music & Video : 0.011284134506883321\n",
      "Lifestyle;Pretend Play : 0.011284134506883321\n",
      "Lifestyle;Education : 0.011284134506883321\n",
      "Health & Fitness;Education : 0.011284134506883321\n",
      "Health & Fitness;Action & Adventure : 0.011284134506883321\n",
      "Entertainment;Education : 0.011284134506883321\n",
      "Communication;Creativity : 0.011284134506883321\n",
      "Comics;Creativity : 0.011284134506883321\n",
      "Casual;Music & Video : 0.011284134506883321\n",
      "Card;Brain Games : 0.011284134506883321\n",
      "Card;Action & Adventure : 0.011284134506883321\n",
      "Books & Reference;Education : 0.011284134506883321\n",
      "Art & Design;Pretend Play : 0.011284134506883321\n",
      "Art & Design;Action & Adventure : 0.011284134506883321\n",
      "Arcade;Pretend Play : 0.011284134506883321\n",
      "Adventure;Education : 0.011284134506883321\n",
      "\n",
      "\n",
      "Appstore Genre\n",
      "Games : 58.16263190564867\n",
      "Entertainment : 7.883302296710118\n",
      "Photo & Video : 4.9658597144630665\n",
      "Education : 3.662321539416512\n",
      "Social Networking : 3.2898820608317814\n",
      "Shopping : 2.60707635009311\n",
      "Utilities : 2.5139664804469275\n",
      "Sports : 2.1415270018621975\n",
      "Music : 2.0484171322160147\n",
      "Health & Fitness : 2.0173805090006205\n",
      "Productivity : 1.7380509000620732\n",
      "Lifestyle : 1.5828677839851024\n",
      "News : 1.3345747982619491\n",
      "Travel : 1.2414649286157666\n",
      "Finance : 1.1173184357541899\n",
      "Weather : 0.8690254500310366\n",
      "Food & Drink : 0.8069522036002483\n",
      "Reference : 0.5586592178770949\n",
      "Business : 0.5276225946617008\n",
      "Book : 0.4345127250155183\n",
      "Navigation : 0.186219739292365\n",
      "Medical : 0.186219739292365\n",
      "Catalogs : 0.12414649286157665\n"
     ]
    }
   ],
   "source": [
    "def freq_table(dataset, index):\n",
    "    ftbl = {}\n",
    "    total = 0\n",
    "    for x in dataset:\n",
    "        total += 1\n",
    "        freq = x[index]\n",
    "        if freq in ftbl:\n",
    "            ftbl[freq] +=1\n",
    "        else:\n",
    "            ftbl[freq] = 1\n",
    "    \n",
    "    percenttbl = {}\n",
    "    for x in ftbl:\n",
    "        percenttbl[x] = ftbl[x] /total *100\n",
    "    return(percenttbl)\n",
    "\n",
    "def display_table(dataset, index):\n",
    "    table = freq_table(dataset, index)\n",
    "    table_display = []\n",
    "    for key in table:\n",
    "        key_val_as_tuple = (table[key], key)\n",
    "        table_display.append(key_val_as_tuple)\n",
    "\n",
    "    table_sorted = sorted(table_display, reverse = True)\n",
    "    for entry in table_sorted:\n",
    "        print(entry[1], ':', entry[0])\n",
    "        \n",
    "print('PlayStore Category')\n",
    "display_table(FreeENPlay, 1)\n",
    "print('\\n')\n",
    "print('PlayStore Genre')\n",
    "display_table(FreeENPlay, 9)\n",
    "print('\\n')\n",
    "print('Appstore Genre')\n",
    "display_table(FreeENApp, 11)"
   ]
  },
  {
   "cell_type": "code",
   "execution_count": 28,
   "metadata": {
    "collapsed": false
   },
   "outputs": [
    {
     "name": "stdout",
     "output_type": "stream",
     "text": [
      "AppleStore - Average number of Users per Genre:\n",
      "Food & Drink :  33333.92307692308\n",
      "News :  21248.023255813954\n",
      "Navigation :  86090.33333333333\n",
      "Productivity :  21028.410714285714\n",
      "Utilities :  18684.456790123455\n",
      "Games :  22788.6696905016\n",
      "Photo & Video :  28441.54375\n",
      "Medical :  612.0\n",
      "Health & Fitness :  23298.015384615384\n",
      "Education :  7003.983050847458\n",
      "Business :  7491.117647058823\n",
      "Reference :  74942.11111111111\n",
      "Entertainment :  14029.830708661417\n",
      "Sports :  23008.898550724636\n",
      "Book :  39758.5\n",
      "Finance :  31467.944444444445\n",
      "Catalogs :  4004.0\n",
      "Weather :  52279.892857142855\n",
      "Lifestyle :  16485.764705882353\n",
      "Shopping :  26919.690476190477\n",
      "Travel :  28243.8\n",
      "Social Networking :  71548.34905660378\n",
      "Music :  57326.530303030304\n"
     ]
    }
   ],
   "source": [
    "AppleGenreDict = freq_table(FreeENApp,11)\n",
    "print('AppleStore - Average number of Users per Genre:')\n",
    "for genre in AppleGenreDict:\n",
    "    total = 0\n",
    "    len_genre = 0\n",
    "    for ent in FreeENApp:\n",
    "        genre_app = ent[-5]\n",
    "        if genre_app == genre:\n",
    "            len_genre += 1\n",
    "            total += float(ent[5])    \n",
    "    print(genre, ': ', total / len_genre)"
   ]
  },
  {
   "cell_type": "code",
   "execution_count": 33,
   "metadata": {
    "collapsed": false
   },
   "outputs": [
    {
     "name": "stdout",
     "output_type": "stream",
     "text": [
      "PlayStore - Average number of Users per Category:\n",
      "FAMILY :  3694276.334922527\n",
      "TRAVEL_AND_LOCAL :  13984077.710144928\n",
      "WEATHER :  5074486.197183099\n",
      "FINANCE :  1387692.475609756\n",
      "HOUSE_AND_HOME :  1331540.5616438356\n",
      "SOCIAL :  23253652.127118643\n",
      "ENTERTAINMENT :  11640705.88235294\n",
      "LIFESTYLE :  1437816.2687861272\n",
      "BUSINESS :  1712290.1474201474\n",
      "EDUCATION :  1820673.076923077\n",
      "HEALTH_AND_FITNESS :  4188821.9853479853\n",
      "BOOKS_AND_REFERENCE :  8767811.894736841\n",
      "COMMUNICATION :  38456119.167247385\n",
      "SPORTS :  3638640.1428571427\n",
      "MAPS_AND_NAVIGATION :  4056941.7741935486\n",
      "MEDICAL :  120616.48717948717\n",
      "DATING :  854028.8303030303\n",
      "PHOTOGRAPHY :  17805627.643678162\n",
      "TOOLS :  10682301.033377837\n",
      "COMICS :  817657.2727272727\n",
      "GAME :  15560965.599534342\n",
      "AUTO_AND_VEHICLES :  647317.8170731707\n",
      "SHOPPING :  7036877.311557789\n",
      "PARENTING :  542603.6206896552\n",
      "EVENTS :  253542.22222222222\n",
      "PERSONALIZATION :  5201482.6122448975\n",
      "BEAUTY :  513151.88679245283\n",
      "LIBRARIES_AND_DEMO :  638503.734939759\n",
      "VIDEO_PLAYERS :  24727872.452830188\n",
      "NEWS_AND_MAGAZINES :  9549178.467741935\n",
      "ART_AND_DESIGN :  1986335.0877192982\n",
      "PRODUCTIVITY :  16787331.344927534\n",
      "FOOD_AND_DRINK :  1924897.7363636363\n"
     ]
    }
   ],
   "source": [
    "PlayGenreDict = freq_table(FreeENPlay, 1)\n",
    "print('PlayStore - Average number of Users per Category:')\n",
    "for category in PlayGenreDict:\n",
    "    total = 0\n",
    "    len_category = 0\n",
    "    for ent in FreeENPlay:\n",
    "        cat = ent[1]\n",
    "        if cat == category:\n",
    "            len_category += 1\n",
    "            total += float(ent[5].replace('+','').replace(',',''))\n",
    "    print(category, ': ', total/len_category)"
   ]
  }
 ],
 "metadata": {
  "kernelspec": {
   "display_name": "Python 3",
   "language": "python",
   "name": "python3"
  },
  "language_info": {
   "codemirror_mode": {
    "name": "ipython",
    "version": 3
   },
   "file_extension": ".py",
   "mimetype": "text/x-python",
   "name": "python",
   "nbconvert_exporter": "python",
   "pygments_lexer": "ipython3",
   "version": "3.4.3"
  }
 },
 "nbformat": 4,
 "nbformat_minor": 2
}
