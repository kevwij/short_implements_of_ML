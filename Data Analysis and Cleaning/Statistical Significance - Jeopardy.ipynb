{
 "cells": [
  {
   "cell_type": "markdown",
   "metadata": {
    "collapsed": true
   },
   "source": [
    "# Jeopardy - Statistical Significance\n",
    "\n",
    "We are looking for any edge to win Jeopardy game. We will use a dataset contining 20,000 rows of Jeopardy questions to figure out some patters in the questions that could help us win."
   ]
  },
  {
   "cell_type": "code",
   "execution_count": 24,
   "metadata": {
    "collapsed": true
   },
   "outputs": [],
   "source": [
    "import pandas as pd\n",
    "\n",
    "jeopardy = pd.read_csv(\"jeopardy.csv\")"
   ]
  },
  {
   "cell_type": "code",
   "execution_count": 25,
   "metadata": {
    "collapsed": false
   },
   "outputs": [
    {
     "name": "stdout",
     "output_type": "stream",
     "text": [
      "   Show Number    Air Date      Round                         Category  Value  \\\n",
      "0         4680  2004-12-31  Jeopardy!                          HISTORY   $200   \n",
      "1         4680  2004-12-31  Jeopardy!  ESPN's TOP 10 ALL-TIME ATHLETES   $200   \n",
      "2         4680  2004-12-31  Jeopardy!      EVERYBODY TALKS ABOUT IT...   $200   \n",
      "3         4680  2004-12-31  Jeopardy!                 THE COMPANY LINE   $200   \n",
      "4         4680  2004-12-31  Jeopardy!              EPITAPHS & TRIBUTES   $200   \n",
      "\n",
      "                                            Question      Answer  \n",
      "0  For the last 8 years of his life, Galileo was ...  Copernicus  \n",
      "1  No. 2: 1912 Olympian; football star at Carlisl...  Jim Thorpe  \n",
      "2  The city of Yuma in this state has a record av...     Arizona  \n",
      "3  In 1963, live on \"The Art Linkletter Show\", th...  McDonald's  \n",
      "4  Signer of the Dec. of Indep., framer of the Co...  John Adams  \n"
     ]
    }
   ],
   "source": [
    "print(jeopardy.head())"
   ]
  },
  {
   "cell_type": "code",
   "execution_count": 26,
   "metadata": {
    "collapsed": false
   },
   "outputs": [
    {
     "name": "stdout",
     "output_type": "stream",
     "text": [
      "Index(['Show Number', ' Air Date', ' Round', ' Category', ' Value',\n",
      "       ' Question', ' Answer'],\n",
      "      dtype='object')\n"
     ]
    }
   ],
   "source": [
    "print(jeopardy.columns)"
   ]
  },
  {
   "cell_type": "code",
   "execution_count": 27,
   "metadata": {
    "collapsed": true
   },
   "outputs": [],
   "source": [
    "jeopardy.columns = ['Show Number', 'Air Date', 'Round', 'Category', 'Value',\n",
    "       'Question', 'Answer']"
   ]
  },
  {
   "cell_type": "code",
   "execution_count": 28,
   "metadata": {
    "collapsed": false
   },
   "outputs": [],
   "source": [
    "jeopardy[\"clean_question\"] = jeopardy[\"Question\"].str.replace(\"[^A-Za-z\\d\\s]\", \"\").str.lower()\n",
    "jeopardy[\"clean_answer\"] = jeopardy[\"Answer\"].str.replace(\"[^A-Za-z\\d\\s]\", \"\").str.lower()"
   ]
  },
  {
   "cell_type": "code",
   "execution_count": 29,
   "metadata": {
    "collapsed": false
   },
   "outputs": [],
   "source": [
    "jeopardy[\"clean_value\"] = pd.to_numeric(jeopardy[\"Value\"].str.replace(\"[^A-Za-z\\d\\s]\", \"\"), errors=\"coerce\")"
   ]
  },
  {
   "cell_type": "code",
   "execution_count": 30,
   "metadata": {
    "collapsed": false
   },
   "outputs": [],
   "source": [
    "jeopardy[\"Air Date\"] = pd.to_datetime(jeopardy[\"Air Date\"])"
   ]
  },
  {
   "cell_type": "code",
   "execution_count": 31,
   "metadata": {
    "collapsed": true
   },
   "outputs": [],
   "source": [
    "def answer_in_question(row):\n",
    "    #Leave split method empty to ignore empty string and consecutive white space\n",
    "    split_answer = row[\"clean_answer\"].split()\n",
    "    split_question = row[\"clean_question\"].split()\n",
    "    if \"the\" in split_answer:\n",
    "        split_answer.remove(\"the\")\n",
    "    match_count = 0\n",
    "    if len(split_answer) == 0:\n",
    "        return 0\n",
    "    match_count = 0\n",
    "    for word in split_answer:\n",
    "        if word in split_question:\n",
    "            match_count += 1\n",
    "    return match_count / len(split_answer)"
   ]
  },
  {
   "cell_type": "code",
   "execution_count": 32,
   "metadata": {
    "collapsed": false
   },
   "outputs": [
    {
     "name": "stdout",
     "output_type": "stream",
     "text": [
      "0.05900196524977763\n"
     ]
    }
   ],
   "source": [
    "jeopardy[\"answer_in_question\"] = jeopardy.apply(answer_in_question, axis=1)\n",
    "print(jeopardy[\"answer_in_question\"].mean())"
   ]
  },
  {
   "cell_type": "markdown",
   "metadata": {},
   "source": [
    "This isn't a reliable method because only approximately 6% of the answers are contained in the question."
   ]
  },
  {
   "cell_type": "code",
   "execution_count": 33,
   "metadata": {
    "collapsed": false
   },
   "outputs": [
    {
     "name": "stdout",
     "output_type": "stream",
     "text": [
      "0.6876260592169802\n"
     ]
    }
   ],
   "source": [
    "question_overlap = []\n",
    "terms_used = set()\n",
    "\n",
    "jeopardy.sort_values(by=[\"Air Date\"], inplace=True)\n",
    "\n",
    "for index, row in jeopardy.iterrows():\n",
    "    clean_split_q = row[\"clean_question\"].split(\" \")\n",
    "    clean_split_q = [word for word in clean_split_q if len(word) > 5]\n",
    "    counter = 0\n",
    "    for word in clean_split_q:\n",
    "        if word in terms_used:\n",
    "            counter += 1\n",
    "    for word in clean_split_q:\n",
    "        terms_used.add(word)\n",
    "    if len(clean_split_q) > 0:\n",
    "        counter = counter / len(clean_split_q)\n",
    "    question_overlap.append(counter)\n",
    "\n",
    "jeopardy[\"question_overlap\"] = question_overlap\n",
    "print(jeopardy[\"question_overlap\"].mean())"
   ]
  },
  {
   "cell_type": "markdown",
   "metadata": {},
   "source": [
    "Based on the dataset, on average 69% of the words in each question had been used in previous Jeopardy questions. Although having similar words doesn't mean same exact question. This information might just be useful to narrow down the \"topic\" that's frequently asked in Jeopardy, but not the specific questions."
   ]
  },
  {
   "cell_type": "code",
   "execution_count": 48,
   "metadata": {
    "collapsed": false
   },
   "outputs": [],
   "source": [
    "def highorlow(row):\n",
    "    value = 0\n",
    "    if row[\"clean_value\"] > 800:\n",
    "        value = 1\n",
    "    return value\n",
    "\n",
    "jeopardy[\"high_value\"] = jeopardy.apply(highorlow, axis=1)"
   ]
  },
  {
   "cell_type": "code",
   "execution_count": 56,
   "metadata": {
    "collapsed": false,
    "scrolled": true
   },
   "outputs": [
    {
     "name": "stdout",
     "output_type": "stream",
     "text": [
      "smiles\n",
      "(1, 0)\n",
      "verizons\n",
      "(1, 0)\n",
      "renaming\n",
      "(0, 1)\n",
      "melodies\n",
      "(0, 1)\n",
      "dekalb\n",
      "(0, 1)\n",
      "gleason\n",
      "(0, 1)\n",
      "elaine\n",
      "(0, 3)\n",
      "carrots\n",
      "(0, 6)\n",
      "callaways\n",
      "(0, 1)\n",
      "astrologists\n",
      "(0, 1)\n",
      "budgerigar\n",
      "(0, 1)\n",
      "triatomic\n",
      "(0, 1)\n",
      "mesilla\n",
      "(0, 1)\n",
      "verdon\n",
      "(1, 0)\n",
      "swissstyle\n",
      "(1, 0)\n",
      "propelling\n",
      "(0, 1)\n",
      "prestige\n",
      "(0, 1)\n",
      "improper\n",
      "(0, 1)\n",
      "scrapped\n",
      "(1, 0)\n",
      "grounds\n",
      "(3, 3)\n"
     ]
    }
   ],
   "source": [
    "def highlowcount(word):\n",
    "    low_count = 0\n",
    "    high_count = 0\n",
    "    for index, row in jeopardy.iterrows():\n",
    "        split_q = row[\"clean_question\"].split(\" \")\n",
    "        if word in split_q:\n",
    "            if row[\"high_value\"] == 1:\n",
    "                high_count += 1\n",
    "            else:\n",
    "                low_count += 1\n",
    "    return high_count, low_count\n",
    "\n",
    "observed_expected = []\n",
    "terms_used = list(terms_used)\n",
    "comparison_terms = terms_used[:20]\n",
    "\n",
    "for term in comparison_terms:\n",
    "    observed_expected.append(highlowcount(term))\n",
    "    \n",
    "for num, i in enumerate(observed_expected):\n",
    "    print(comparison_terms[num])\n",
    "    print(i)"
   ]
  },
  {
   "cell_type": "code",
   "execution_count": 75,
   "metadata": {
    "collapsed": false
   },
   "outputs": [
    {
     "data": {
      "text/plain": [
       "[Power_divergenceResult(statistic=2.487792117195675, pvalue=0.11473257634454047),\n",
       " Power_divergenceResult(statistic=2.487792117195675, pvalue=0.11473257634454047),\n",
       " Power_divergenceResult(statistic=0.401962846126884, pvalue=0.5260772985705469),\n",
       " Power_divergenceResult(statistic=0.401962846126884, pvalue=0.5260772985705469),\n",
       " Power_divergenceResult(statistic=0.401962846126884, pvalue=0.5260772985705469),\n",
       " Power_divergenceResult(statistic=0.401962846126884, pvalue=0.5260772985705469),\n",
       " Power_divergenceResult(statistic=1.205888538380652, pvalue=0.27214791766902047),\n",
       " Power_divergenceResult(statistic=2.411777076761304, pvalue=0.120425590069509),\n",
       " Power_divergenceResult(statistic=0.401962846126884, pvalue=0.5260772985705469),\n",
       " Power_divergenceResult(statistic=0.401962846126884, pvalue=0.5260772985705469),\n",
       " Power_divergenceResult(statistic=0.401962846126884, pvalue=0.5260772985705469),\n",
       " Power_divergenceResult(statistic=0.401962846126884, pvalue=0.5260772985705469),\n",
       " Power_divergenceResult(statistic=0.401962846126884, pvalue=0.5260772985705469),\n",
       " Power_divergenceResult(statistic=2.487792117195675, pvalue=0.11473257634454047),\n",
       " Power_divergenceResult(statistic=2.487792117195675, pvalue=0.11473257634454047),\n",
       " Power_divergenceResult(statistic=0.401962846126884, pvalue=0.5260772985705469),\n",
       " Power_divergenceResult(statistic=0.401962846126884, pvalue=0.5260772985705469),\n",
       " Power_divergenceResult(statistic=0.401962846126884, pvalue=0.5260772985705469),\n",
       " Power_divergenceResult(statistic=2.487792117195675, pvalue=0.11473257634454047),\n",
       " Power_divergenceResult(statistic=1.3346324449838385, pvalue=0.24798277007881886)]"
      ]
     },
     "execution_count": 75,
     "metadata": {},
     "output_type": "execute_result"
    }
   ],
   "source": [
    "from scipy.stats import chisquare\n",
    "\n",
    "#total number of high value questions in database\n",
    "high_value_count = len(jeopardy[jeopardy[\"high_value\"] == 1])\n",
    "\n",
    "#total number of low value questions in database\n",
    "low_value_count = len(jeopardy[jeopardy[\"high_value\"] == 0])\n",
    "\n",
    "chi_squared = []\n",
    "\n",
    "for i in observed_expected:\n",
    "    #number of questions using the term\n",
    "    total = sum(i)\n",
    "    \n",
    "    #ratio of questions in jeopardy using the term\n",
    "    prop_total = total / len(jeopardy)\n",
    "    \n",
    "    #expected number of High-Value questions using the term\n",
    "    e_high_val = prop_total * high_value_count\n",
    "    \n",
    "    #expected number of Low-Value questions using the term\n",
    "    e_low_val = prop_total * low_value_count\n",
    "    \n",
    "    #chi square of term's HighValue and LowValue count\n",
    "    chi_squared.append(chisquare([i[0], i[1]], [e_high_val, e_low_val]))\n",
    "    \n",
    "chi_squared\n",
    "    "
   ]
  },
  {
   "cell_type": "markdown",
   "metadata": {},
   "source": [
    "None of the terms had a significant difference in usage between high value and low value rows. Additionally, the frequencies were all lower than 5, so the chi-squared test isn't as valid. It would be better to run this test with only terms that have higher frequencies."
   ]
  }
 ],
 "metadata": {
  "kernelspec": {
   "display_name": "Python 3",
   "language": "python",
   "name": "python3"
  },
  "language_info": {
   "codemirror_mode": {
    "name": "ipython",
    "version": 3
   },
   "file_extension": ".py",
   "mimetype": "text/x-python",
   "name": "python",
   "nbconvert_exporter": "python",
   "pygments_lexer": "ipython3",
   "version": "3.4.3"
  }
 },
 "nbformat": 4,
 "nbformat_minor": 0
}
