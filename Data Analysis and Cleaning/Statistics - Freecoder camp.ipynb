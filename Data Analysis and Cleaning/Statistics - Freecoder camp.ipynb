{
 "cells": [
  {
   "cell_type": "markdown",
   "metadata": {},
   "source": [
    "# STATISTICS - e-learning market\n",
    "\n",
    "we're working for an an e-learning company that offers courses on programming. Most of our courses are on web and mobile development, but we also cover many other domains, like data science, game development, etc. We want to promote our product and we'd like to invest some money in advertisement. Our goal in this project is to find out the two best markets to advertise our product in."
   ]
  },
  {
   "cell_type": "code",
   "execution_count": 81,
   "metadata": {
    "collapsed": true
   },
   "outputs": [],
   "source": [
    "import pandas as pd"
   ]
  },
  {
   "cell_type": "code",
   "execution_count": 82,
   "metadata": {
    "collapsed": false,
    "scrolled": true
   },
   "outputs": [
    {
     "name": "stdout",
     "output_type": "stream",
     "text": [
      "    Age  AttendedBootcamp  BootcampFinish  BootcampLoanYesNo BootcampName  \\\n",
      "0  27.0               0.0             NaN                NaN          NaN   \n",
      "1  34.0               0.0             NaN                NaN          NaN   \n",
      "2  21.0               0.0             NaN                NaN          NaN   \n",
      "3  26.0               0.0             NaN                NaN          NaN   \n",
      "4  20.0               0.0             NaN                NaN          NaN   \n",
      "\n",
      "   BootcampRecommend  ChildrenNumber                 CityPopulation  \\\n",
      "0                NaN             NaN            more than 1 million   \n",
      "1                NaN             NaN              less than 100,000   \n",
      "2                NaN             NaN            more than 1 million   \n",
      "3                NaN             NaN  between 100,000 and 1 million   \n",
      "4                NaN             NaN  between 100,000 and 1 million   \n",
      "\n",
      "   CodeEventConferences  CodeEventDjangoGirls  CodeEventFCC  CodeEventGameJam  \\\n",
      "0                   NaN                   NaN           NaN               NaN   \n",
      "1                   NaN                   NaN           NaN               NaN   \n",
      "2                   NaN                   NaN           NaN               NaN   \n",
      "3                   NaN                   NaN           NaN               NaN   \n",
      "4                   NaN                   NaN           NaN               NaN   \n",
      "\n",
      "   CodeEventGirlDev  CodeEventHackathons  CodeEventMeetup  \\\n",
      "0               NaN                  NaN              NaN   \n",
      "1               NaN                  NaN              NaN   \n",
      "2               NaN                  1.0              NaN   \n",
      "3               NaN                  NaN              NaN   \n",
      "4               NaN                  NaN              NaN   \n",
      "\n",
      "   CodeEventNodeSchool  CodeEventNone CodeEventOther  CodeEventRailsBridge  \\\n",
      "0                  NaN            NaN            NaN                   NaN   \n",
      "1                  NaN            NaN            NaN                   NaN   \n",
      "2                  1.0            NaN            NaN                   NaN   \n",
      "3                  NaN            NaN            NaN                   NaN   \n",
      "4                  NaN            NaN            NaN                   NaN   \n",
      "\n",
      "   CodeEventRailsGirls  CodeEventStartUpWknd  CodeEventWkdBootcamps  \\\n",
      "0                  NaN                   NaN                    NaN   \n",
      "1                  NaN                   NaN                    NaN   \n",
      "2                  NaN                   NaN                    NaN   \n",
      "3                  NaN                   NaN                    NaN   \n",
      "4                  NaN                   NaN                    NaN   \n",
      "\n",
      "   CodeEventWomenCode  CodeEventWorkshops       CommuteTime  \\\n",
      "0                 NaN                 NaN  15 to 29 minutes   \n",
      "1                 NaN                 NaN               NaN   \n",
      "2                 NaN                 NaN  15 to 29 minutes   \n",
      "3                 NaN                 NaN  I work from home   \n",
      "4                 NaN                 NaN               NaN   \n",
      "\n",
      "             CountryCitizen               CountryLive  \\\n",
      "0                    Canada                    Canada   \n",
      "1  United States of America  United States of America   \n",
      "2  United States of America  United States of America   \n",
      "3                    Brazil                    Brazil   \n",
      "4                  Portugal                  Portugal   \n",
      "\n",
      "               EmploymentField EmploymentFieldOther  \\\n",
      "0  software development and IT                  NaN   \n",
      "1                          NaN                  NaN   \n",
      "2  software development and IT                  NaN   \n",
      "3  software development and IT                  NaN   \n",
      "4                          NaN                  NaN   \n",
      "\n",
      "                   EmploymentStatus EmploymentStatusOther  ExpectedEarning  \\\n",
      "0                Employed for wages                   NaN              NaN   \n",
      "1  Not working but looking for work                   NaN          35000.0   \n",
      "2                Employed for wages                   NaN          70000.0   \n",
      "3                Employed for wages                   NaN          40000.0   \n",
      "4  Not working but looking for work                   NaN         140000.0   \n",
      "\n",
      "   FinanciallySupporting  FirstDevJob  Gender GenderOther  HasChildren  \\\n",
      "0                    NaN          NaN  female         NaN          NaN   \n",
      "1                    NaN          NaN    male         NaN          NaN   \n",
      "2                    NaN          NaN    male         NaN          NaN   \n",
      "3                    0.0          NaN    male         NaN          0.0   \n",
      "4                    NaN          NaN  female         NaN          NaN   \n",
      "\n",
      "   HasDebt  HasFinancialDependents  HasHighSpdInternet  HasHomeMortgage  \\\n",
      "0      1.0                     0.0                 1.0              0.0   \n",
      "1      1.0                     0.0                 1.0              0.0   \n",
      "2      0.0                     0.0                 1.0              NaN   \n",
      "3      1.0                     1.0                 1.0              1.0   \n",
      "4      0.0                     0.0                 1.0              NaN   \n",
      "\n",
      "   HasServedInMilitary  HasStudentDebt  HomeMortgageOwe  HoursLearning  \\\n",
      "0                  0.0             0.0              NaN           15.0   \n",
      "1                  0.0             1.0              NaN           10.0   \n",
      "2                  0.0             NaN              NaN           25.0   \n",
      "3                  0.0             0.0          40000.0           14.0   \n",
      "4                  0.0             NaN              NaN           10.0   \n",
      "\n",
      "                               ID.x                              ID.y  \\\n",
      "0  02d9465b21e8bd09374b0066fb2d5614  eb78c1c3ac6cd9052aec557065070fbf   \n",
      "1  5bfef9ecb211ec4f518cfc1d2a6f3e0c  21db37adb60cdcafadfa7dca1b13b6b1   \n",
      "2  14f1863afa9c7de488050b82eb3edd96  21ba173828fbe9e27ccebaf4d5166a55   \n",
      "3  91756eb4dc280062a541c25a3d44cfb0  3be37b558f02daae93a6da10f83f0c77   \n",
      "4  aa3f061a1949a90b27bef7411ecd193f  d7c56bbf2c7b62096be9db010e86d96d   \n",
      "\n",
      "    Income  IsEthnicMinority  IsReceiveDisabilitiesBenefits  IsSoftwareDev  \\\n",
      "0      NaN               NaN                            0.0            0.0   \n",
      "1      NaN               0.0                            0.0            0.0   \n",
      "2  13000.0               1.0                            0.0            0.0   \n",
      "3  24000.0               0.0                            0.0            0.0   \n",
      "4      NaN               0.0                            0.0            0.0   \n",
      "\n",
      "   IsUnderEmployed              JobApplyWhen  JobInterestBackEnd  \\\n",
      "0              0.0                       NaN                 NaN   \n",
      "1              NaN     Within 7 to 12 months                 NaN   \n",
      "2              0.0     Within 7 to 12 months                 1.0   \n",
      "3              1.0  Within the next 6 months                 1.0   \n",
      "4              NaN     Within 7 to 12 months                 1.0   \n",
      "\n",
      "   JobInterestDataEngr  JobInterestDataSci  JobInterestDevOps  \\\n",
      "0                  NaN                 NaN                NaN   \n",
      "1                  NaN                 NaN                NaN   \n",
      "2                  NaN                 NaN                1.0   \n",
      "3                  NaN                 NaN                NaN   \n",
      "4                  NaN                 NaN                NaN   \n",
      "\n",
      "   JobInterestFrontEnd  JobInterestFullStack  JobInterestGameDev  \\\n",
      "0                  NaN                   NaN                 NaN   \n",
      "1                  NaN                   1.0                 NaN   \n",
      "2                  1.0                   1.0                 NaN   \n",
      "3                  1.0                   1.0                 NaN   \n",
      "4                  1.0                   1.0                 NaN   \n",
      "\n",
      "   JobInterestInfoSec  JobInterestMobile JobInterestOther  \\\n",
      "0                 NaN                NaN              NaN   \n",
      "1                 NaN                NaN              NaN   \n",
      "2                 NaN                1.0              NaN   \n",
      "3                 NaN                NaN              NaN   \n",
      "4                 1.0                1.0              NaN   \n",
      "\n",
      "   JobInterestProjMngr  JobInterestQAEngr  JobInterestUX  \\\n",
      "0                  NaN                NaN            NaN   \n",
      "1                  NaN                NaN            NaN   \n",
      "2                  NaN                NaN            NaN   \n",
      "3                  NaN                NaN            NaN   \n",
      "4                  NaN                NaN            NaN   \n",
      "\n",
      "                                JobPref  JobRelocateYesNo  \\\n",
      "0               start your own business               NaN   \n",
      "1                  work for a nonprofit               1.0   \n",
      "2       work for a medium-sized company               1.0   \n",
      "3       work for a medium-sized company               NaN   \n",
      "4  work for a multinational corporation               1.0   \n",
      "\n",
      "                                     JobRoleInterest  \\\n",
      "0                                                NaN   \n",
      "1                           Full-Stack Web Developer   \n",
      "2    Front-End Web Developer, Back-End Web Develo...   \n",
      "3    Front-End Web Developer, Full-Stack Web Deve...   \n",
      "4  Full-Stack Web Developer, Information Security...   \n",
      "\n",
      "                         JobWherePref LanguageAtHome  \\\n",
      "0                                 NaN        English   \n",
      "1  in an office with other developers        English   \n",
      "2                       no preference        Spanish   \n",
      "3                           from home     Portuguese   \n",
      "4  in an office with other developers     Portuguese   \n",
      "\n",
      "                     MaritalStatus  MoneyForLearning  MonthsProgramming  \\\n",
      "0  married or domestic partnership             150.0                6.0   \n",
      "1            single, never married              80.0                6.0   \n",
      "2            single, never married            1000.0                5.0   \n",
      "3  married or domestic partnership               0.0                5.0   \n",
      "4            single, never married               0.0               24.0   \n",
      "\n",
      "    NetworkID         Part1EndTime       Part1StartTime         Part2EndTime  \\\n",
      "0  6f1fbc6b2b  2017-03-09 00:36:22  2017-03-09 00:32:59  2017-03-09 00:59:46   \n",
      "1  f8f8be6910  2017-03-09 00:37:07  2017-03-09 00:33:26  2017-03-09 00:38:59   \n",
      "2  2ed189768e  2017-03-09 00:37:58  2017-03-09 00:33:53  2017-03-09 00:40:14   \n",
      "3  dbdc0664d1  2017-03-09 00:40:13  2017-03-09 00:37:45  2017-03-09 00:42:26   \n",
      "4  11b0f2d8a9  2017-03-09 00:42:45  2017-03-09 00:39:44  2017-03-09 00:45:42   \n",
      "\n",
      "        Part2StartTime  PodcastChangeLog  PodcastCodeNewbie  PodcastCodePen  \\\n",
      "0  2017-03-09 00:36:26               NaN                NaN             NaN   \n",
      "1  2017-03-09 00:37:10               NaN                1.0             NaN   \n",
      "2  2017-03-09 00:38:02               1.0                NaN             1.0   \n",
      "3  2017-03-09 00:40:18               NaN                NaN             NaN   \n",
      "4  2017-03-09 00:42:50               NaN                NaN             NaN   \n",
      "\n",
      "   PodcastDevTea  PodcastDotNET  PodcastGiantRobots  PodcastJSAir  \\\n",
      "0            1.0            NaN                 NaN           NaN   \n",
      "1            NaN            NaN                 NaN           NaN   \n",
      "2            NaN            NaN                 NaN           NaN   \n",
      "3            NaN            NaN                 NaN           NaN   \n",
      "4            NaN            NaN                 NaN           NaN   \n",
      "\n",
      "   PodcastJSJabber  PodcastNone PodcastOther  PodcastProgThrowdown  \\\n",
      "0              NaN          NaN          NaN                   NaN   \n",
      "1              NaN          NaN          NaN                   NaN   \n",
      "2              NaN          NaN   Codenewbie                   NaN   \n",
      "3              NaN          NaN          NaN                   NaN   \n",
      "4              NaN          NaN          NaN                   NaN   \n",
      "\n",
      "   PodcastRubyRogues  PodcastSEDaily  PodcastSERadio  PodcastShopTalk  \\\n",
      "0                NaN             NaN             NaN              NaN   \n",
      "1                NaN             NaN             NaN              NaN   \n",
      "2                NaN             NaN             NaN              1.0   \n",
      "3                NaN             NaN             NaN              NaN   \n",
      "4                NaN             NaN             NaN              NaN   \n",
      "\n",
      "   PodcastTalkPython  PodcastTheWebAhead  ResourceCodecademy  \\\n",
      "0                NaN                 NaN                 1.0   \n",
      "1                NaN                 NaN                 1.0   \n",
      "2                NaN                 NaN                 1.0   \n",
      "3                NaN                 NaN                 NaN   \n",
      "4                NaN                 NaN                 NaN   \n",
      "\n",
      "   ResourceCodeWars  ResourceCoursera  ResourceCSS  ResourceEdX  \\\n",
      "0               NaN               NaN          NaN          NaN   \n",
      "1               NaN               NaN          1.0          NaN   \n",
      "2               NaN               NaN          1.0          NaN   \n",
      "3               NaN               NaN          NaN          NaN   \n",
      "4               NaN               NaN          NaN          NaN   \n",
      "\n",
      "   ResourceEgghead  ResourceFCC  ResourceHackerRank  ResourceKA  \\\n",
      "0              NaN          1.0                 NaN         NaN   \n",
      "1              NaN          1.0                 NaN         NaN   \n",
      "2              NaN          1.0                 NaN         NaN   \n",
      "3              1.0          1.0                 NaN         NaN   \n",
      "4              NaN          NaN                 NaN         NaN   \n",
      "\n",
      "   ResourceLynda  ResourceMDN  ResourceOdinProj ResourceOther  \\\n",
      "0            NaN          1.0               NaN           NaN   \n",
      "1            NaN          NaN               NaN           NaN   \n",
      "2            NaN          1.0               NaN           NaN   \n",
      "3            NaN          1.0               NaN           NaN   \n",
      "4            NaN          NaN               NaN           NaN   \n",
      "\n",
      "   ResourcePluralSight  ResourceSkillcrush  ResourceSO  ResourceTreehouse  \\\n",
      "0                  NaN                 NaN         NaN                NaN   \n",
      "1                  NaN                 NaN         1.0                NaN   \n",
      "2                  NaN                 NaN         NaN                NaN   \n",
      "3                  NaN                 NaN         1.0                NaN   \n",
      "4                  NaN                 NaN         1.0                NaN   \n",
      "\n",
      "   ResourceUdacity  ResourceUdemy  ResourceW3S  \\\n",
      "0              NaN            1.0          1.0   \n",
      "1              NaN            1.0          1.0   \n",
      "2              1.0            1.0          NaN   \n",
      "3              NaN            NaN          NaN   \n",
      "4              NaN            NaN          NaN   \n",
      "\n",
      "                              SchoolDegree             SchoolMajor  \\\n",
      "0           some college credit, no degree                     NaN   \n",
      "1           some college credit, no degree                     NaN   \n",
      "2  high school diploma or equivalent (GED)                     NaN   \n",
      "3           some college credit, no degree                     NaN   \n",
      "4                        bachelor's degree  Information Technology   \n",
      "\n",
      "   StudentDebtOwe  YouTubeCodeCourse  YouTubeCodingTrain  YouTubeCodingTut360  \\\n",
      "0             NaN                NaN                 NaN                  NaN   \n",
      "1             NaN                NaN                 NaN                  NaN   \n",
      "2             NaN                NaN                 NaN                  1.0   \n",
      "3             NaN                NaN                 NaN                  NaN   \n",
      "4             NaN                NaN                 NaN                  NaN   \n",
      "\n",
      "   YouTubeComputerphile  YouTubeDerekBanas  YouTubeDevTips  \\\n",
      "0                   NaN                NaN             NaN   \n",
      "1                   NaN                NaN             NaN   \n",
      "2                   NaN                1.0             1.0   \n",
      "3                   NaN                NaN             1.0   \n",
      "4                   NaN                NaN             NaN   \n",
      "\n",
      "   YouTubeEngineeredTruth  YouTubeFCC  YouTubeFunFunFunction  \\\n",
      "0                     NaN         NaN                    NaN   \n",
      "1                     NaN         1.0                    NaN   \n",
      "2                     NaN         NaN                    NaN   \n",
      "3                     NaN         1.0                    1.0   \n",
      "4                     NaN         NaN                    NaN   \n",
      "\n",
      "   YouTubeGoogleDev  YouTubeLearnCode  YouTubeLevelUpTuts  YouTubeMIT  \\\n",
      "0               NaN               NaN                 NaN         NaN   \n",
      "1               NaN               NaN                 NaN         NaN   \n",
      "2               NaN               1.0                 1.0         NaN   \n",
      "3               NaN               NaN                 1.0         NaN   \n",
      "4               NaN               NaN                 NaN         NaN   \n",
      "\n",
      "   YouTubeMozillaHacks YouTubeOther  YouTubeSimplilearn  YouTubeTheNewBoston  \n",
      "0                  NaN          NaN                 NaN                  NaN  \n",
      "1                  NaN          NaN                 NaN                  NaN  \n",
      "2                  NaN          NaN                 NaN                  NaN  \n",
      "3                  NaN          NaN                 NaN                  NaN  \n",
      "4                  NaN          NaN                 NaN                  NaN  \n"
     ]
    }
   ],
   "source": [
    "survey = pd.read_csv(\"2017-fCC-New-Coders-Survey-Data.csv\", low_memory=0)\n",
    "pd.options.display.max_columns = 140\n",
    "print(survey.head())"
   ]
  },
  {
   "cell_type": "code",
   "execution_count": 83,
   "metadata": {
    "collapsed": false
   },
   "outputs": [
    {
     "data": {
      "text/plain": [
       "(18175, 136)"
      ]
     },
     "execution_count": 83,
     "metadata": {},
     "output_type": "execute_result"
    }
   ],
   "source": [
    "survey.shape"
   ]
  },
  {
   "cell_type": "code",
   "execution_count": 84,
   "metadata": {
    "collapsed": false
   },
   "outputs": [
    {
     "data": {
      "text/plain": [
       "Full-Stack Web Developer                                                                                                                                                                               11.770595\n",
       "  Front-End Web Developer                                                                                                                                                                               6.435927\n",
       "  Data Scientist                                                                                                                                                                                        2.173913\n",
       "Back-End Web Developer                                                                                                                                                                                  2.030892\n",
       "  Mobile Developer                                                                                                                                                                                      1.673341\n",
       "Game Developer                                                                                                                                                                                          1.630435\n",
       "Information Security                                                                                                                                                                                    1.315789\n",
       "Full-Stack Web Developer,   Front-End Web Developer                                                                                                                                                     0.915332\n",
       "  Front-End Web Developer, Full-Stack Web Developer                                                                                                                                                     0.800915\n",
       "  Product Manager                                                                                                                                                                                       0.786613\n",
       "Data Engineer                                                                                                                                                                                           0.758009\n",
       "  User Experience Designer                                                                                                                                                                              0.743707\n",
       "  User Experience Designer,   Front-End Web Developer                                                                                                                                                   0.614989\n",
       "  Front-End Web Developer, Back-End Web Developer, Full-Stack Web Developer                                                                                                                             0.557780\n",
       "  DevOps / SysAdmin                                                                                                                                                                                     0.514874\n",
       "Back-End Web Developer, Full-Stack Web Developer,   Front-End Web Developer                                                                                                                             0.514874\n",
       "Back-End Web Developer,   Front-End Web Developer, Full-Stack Web Developer                                                                                                                             0.514874\n",
       "Full-Stack Web Developer,   Front-End Web Developer, Back-End Web Developer                                                                                                                             0.443364\n",
       "  Front-End Web Developer, Full-Stack Web Developer, Back-End Web Developer                                                                                                                             0.429062\n",
       "  Front-End Web Developer,   User Experience Designer                                                                                                                                                   0.414760\n",
       "Full-Stack Web Developer,   Mobile Developer                                                                                                                                                            0.414760\n",
       "Back-End Web Developer, Full-Stack Web Developer                                                                                                                                                        0.386156\n",
       "Full-Stack Web Developer, Back-End Web Developer                                                                                                                                                        0.371854\n",
       "Back-End Web Developer,   Front-End Web Developer                                                                                                                                                       0.286041\n",
       "Full-Stack Web Developer, Back-End Web Developer,   Front-End Web Developer                                                                                                                             0.271739\n",
       "Data Engineer,   Data Scientist                                                                                                                                                                         0.271739\n",
       "  Front-End Web Developer,   Mobile Developer                                                                                                                                                           0.257437\n",
       "Full-Stack Web Developer,   Data Scientist                                                                                                                                                              0.243135\n",
       "  Data Scientist, Data Engineer                                                                                                                                                                         0.228833\n",
       "  Mobile Developer, Game Developer                                                                                                                                                                      0.228833\n",
       "                                                                                                                                                                                                         ...    \n",
       "Back-End Web Developer,   Mobile Developer, Data Engineer, Full-Stack Web Developer,   Front-End Web Developer                                                                                          0.014302\n",
       "  Front-End Web Developer, Back-End Web Developer,   Data Scientist, Full-Stack Web Developer, Information Security,   Mobile Developer, Game Developer                                                 0.014302\n",
       "  User Experience Designer, Data Engineer,   Front-End Web Developer, Back-End Web Developer, Game Developer,   Data Scientist, Information Security, Full-Stack Web Developer,   Mobile Developer      0.014302\n",
       "Back-End Web Developer, Full-Stack Web Developer,   User Experience Designer                                                                                                                            0.014302\n",
       "Back-End Web Developer,   Mobile Developer,   Data Scientist, Information Security, Full-Stack Web Developer                                                                                            0.014302\n",
       "Game Developer,   User Experience Designer, Back-End Web Developer,   Front-End Web Developer, Full-Stack Web Developer,   Mobile Developer                                                             0.014302\n",
       "Back-End Web Developer, Full-Stack Web Developer,   Product Manager,   Front-End Web Developer, Information Security                                                                                    0.014302\n",
       "Information Security,   DevOps / SysAdmin, Full-Stack Web Developer, Game Developer,   Mobile Developer                                                                                                 0.014302\n",
       "Game Developer,   Front-End Web Developer, Back-End Web Developer,   Mobile Developer, Full-Stack Web Developer                                                                                         0.014302\n",
       "  Front-End Web Developer,   Product Manager, Back-End Web Developer, Full-Stack Web Developer,   Mobile Developer                                                                                      0.014302\n",
       "philosopher                                                                                                                                                                                             0.014302\n",
       "  User Experience Designer,   Data Scientist,   DevOps / SysAdmin, Information Security, Data Engineer                                                                                                  0.014302\n",
       "  Mobile Developer,   Front-End Web Developer,   Data Scientist, Data Engineer, Back-End Web Developer, Full-Stack Web Developer, Game Developer,   Quality Assurance Engineer                          0.014302\n",
       "Game Developer, Data Engineer, Full-Stack Web Developer,   Mobile Developer, Information Security                                                                                                       0.014302\n",
       "  Product Manager, Full-Stack Web Developer, Game Developer,   Mobile Developer                                                                                                                         0.014302\n",
       "  Data Scientist, Information Security,   Mobile Developer, Full-Stack Web Developer,   Product Manager                                                                                                 0.014302\n",
       "Full-Stack Web Developer,   Data Scientist,   Product Manager,   DevOps / SysAdmin                                                                                                                      0.014302\n",
       "  Front-End Web Developer, Game Developer,   Mobile Developer, Back-End Web Developer, Full-Stack Web Developer                                                                                         0.014302\n",
       "Data Engineer,   Mobile Developer, Game Developer,   DevOps / SysAdmin, Information Security                                                                                                            0.014302\n",
       "Information Security,   Product Manager, Full-Stack Web Developer                                                                                                                                       0.014302\n",
       "Data Engineer, Game Developer, Information Security,   Front-End Web Developer,   Data Scientist, Back-End Web Developer, Full-Stack Web Developer                                                      0.014302\n",
       "  Data Scientist, Game Developer, Full-Stack Web Developer                                                                                                                                              0.014302\n",
       "  Front-End Web Developer, Full-Stack Web Developer,   Data Scientist,   DevOps / SysAdmin, Back-End Web Developer, Game Developer,   Mobile Developer                                                  0.014302\n",
       "Robotics Process Automation Specialist                                                                                                                                                                  0.014302\n",
       "Full-Stack Web Developer,   Quality Assurance Engineer,   Product Manager, Back-End Web Developer,   Mobile Developer,   Data Scientist, Data Engineer                                                  0.014302\n",
       "  Front-End Web Developer,   Mobile Developer, Full-Stack Web Developer,   DevOps / SysAdmin, Back-End Web Developer                                                                                    0.014302\n",
       "  Mobile Developer,   DevOps / SysAdmin, Data Engineer                                                                                                                                                  0.014302\n",
       "Back-End Web Developer,   User Experience Designer,   Front-End Web Developer, Information Security                                                                                                     0.014302\n",
       "Information Security, Back-End Web Developer,   Product Manager,   Mobile Developer,   User Experience Designer,   Front-End Web Developer, Game Developer, Full-Stack Web Developer, Data Engineer     0.014302\n",
       "  Data Scientist,   DevOps / SysAdmin, Game Developer, Data Engineer, Robotics                                                                                                                          0.014302\n",
       "Name: JobRoleInterest, Length: 3213, dtype: float64"
      ]
     },
     "execution_count": 84,
     "metadata": {},
     "output_type": "execute_result"
    }
   ],
   "source": [
    "survey[\"JobRoleInterest\"].value_counts(normalize=True)*100"
   ]
  },
  {
   "cell_type": "markdown",
   "metadata": {},
   "source": [
    "There are people interested in multiple subjects. So we cannot use the frequency distribution table per student. Instead, we are going to find out the number of students interested in just one subject, and how many people interested in at least web or mobile development."
   ]
  },
  {
   "cell_type": "code",
   "execution_count": 85,
   "metadata": {
    "collapsed": false,
    "scrolled": true
   },
   "outputs": [
    {
     "data": {
      "text/plain": [
       "1                                 Full-Stack Web Developer\n",
       "2          Front-End Web Developer, Back-End Web Develo...\n",
       "3          Front-End Web Developer, Full-Stack Web Deve...\n",
       "4        Full-Stack Web Developer, Information Security...\n",
       "6                                 Full-Stack Web Developer\n",
       "9        Full-Stack Web Developer,   Quality Assurance ...\n",
       "11         DevOps / SysAdmin,   Data Scientist, Informa...\n",
       "13       Back-End Web Developer, Full-Stack Web Develop...\n",
       "14                                Full-Stack Web Developer\n",
       "15                                Full-Stack Web Developer\n",
       "16                                Full-Stack Web Developer\n",
       "18       Full-Stack Web Developer,   Front-End Web Deve...\n",
       "19         Front-End Web Developer,   Mobile Developer,...\n",
       "21                                    Information Security\n",
       "22                                Full-Stack Web Developer\n",
       "23                                  Back-End Web Developer\n",
       "28                                Full-Stack Web Developer\n",
       "29         Front-End Web Developer,   Data Scientist, F...\n",
       "30        Back-End Web Developer, Full-Stack Web Developer\n",
       "31                                 Front-End Web Developer\n",
       "32         Data Scientist, Information Security, Data E...\n",
       "33       Full-Stack Web Developer,   Quality Assurance ...\n",
       "34        Back-End Web Developer, Full-Stack Web Developer\n",
       "35       Back-End Web Developer, Full-Stack Web Develop...\n",
       "37                     Mobile Developer,   Product Manager\n",
       "40         Front-End Web Developer, Back-End Web Develo...\n",
       "41                                 Front-End Web Developer\n",
       "42                                Full-Stack Web Developer\n",
       "43       Back-End Web Developer,   Front-End Web Develo...\n",
       "52         Data Scientist, Game Developer, Full-Stack W...\n",
       "                               ...                        \n",
       "18080          Mobile Developer,   Front-End Web Developer\n",
       "18081    Full-Stack Web Developer, Back-End Web Develop...\n",
       "18088                             Full-Stack Web Developer\n",
       "18089                           Quality Assurance Engineer\n",
       "18090    Game Developer,   Data Scientist, Full-Stack W...\n",
       "18093          Front-End Web Developer,   Mobile Developer\n",
       "18097    Game Developer,   Mobile Developer, Full-Stack...\n",
       "18098      Front-End Web Developer, Full-Stack Web Deve...\n",
       "18099                             Full-Stack Web Developer\n",
       "18107                             Full-Stack Web Developer\n",
       "18111                     Mobile Developer, Game Developer\n",
       "18112      Mobile Developer, Game Developer, Full-Stack...\n",
       "18113                     Mobile Developer, Game Developer\n",
       "18118      DevOps / SysAdmin, Full-Stack Web Developer,...\n",
       "18125      Front-End Web Developer, Full-Stack Web Deve...\n",
       "18129                                     Mobile Developer\n",
       "18130      Front-End Web Developer,   User Experience D...\n",
       "18131    Game Developer,   Front-End Web Developer, Bac...\n",
       "18151                              Front-End Web Developer\n",
       "18153       Information Security, Full-Stack Web Developer\n",
       "18154                             Full-Stack Web Developer\n",
       "18155    Full-Stack Web Developer,   Front-End Web Deve...\n",
       "18156                             Full-Stack Web Developer\n",
       "18157    Back-End Web Developer, Data Engineer,   Mobil...\n",
       "18160                             User Experience Designer\n",
       "18161                             Full-Stack Web Developer\n",
       "18162      Data Scientist, Game Developer,   Quality As...\n",
       "18163    Back-End Web Developer, Data Engineer,   Data ...\n",
       "18171      DevOps / SysAdmin,   Mobile Developer,   Pro...\n",
       "18174    Back-End Web Developer, Data Engineer,   Data ...\n",
       "Name: JobRoleInterest, Length: 6992, dtype: object"
      ]
     },
     "execution_count": 85,
     "metadata": {},
     "output_type": "execute_result"
    }
   ],
   "source": [
    "survey[\"JobRoleInterest\"].dropna()"
   ]
  },
  {
   "cell_type": "code",
   "execution_count": 86,
   "metadata": {
    "collapsed": false
   },
   "outputs": [
    {
     "data": {
      "text/plain": [
       "1     31.650458\n",
       "3     15.889588\n",
       "4     15.217391\n",
       "5     12.042334\n",
       "2     10.883867\n",
       "6      6.721968\n",
       "7      3.861556\n",
       "8      1.759153\n",
       "9      0.986842\n",
       "10     0.471968\n",
       "12     0.300343\n",
       "11     0.185927\n",
       "13     0.028604\n",
       "Name: JobRoleInterest, dtype: float64"
      ]
     },
     "execution_count": 86,
     "metadata": {},
     "output_type": "execute_result"
    }
   ],
   "source": [
    "nonullinterest = survey[\"JobRoleInterest\"].dropna()\n",
    "nonullinterest.str.split(pat=\",\").apply(lambda x: len(x)).value_counts(normalize=True)*100"
   ]
  },
  {
   "cell_type": "markdown",
   "metadata": {},
   "source": [
    "There are about 31% of students who are interested in just one subject."
   ]
  },
  {
   "cell_type": "code",
   "execution_count": 87,
   "metadata": {
    "collapsed": false
   },
   "outputs": [
    {
     "name": "stdout",
     "output_type": "stream",
     "text": [
      "True     86.298627\n",
      "False    13.701373\n",
      "Name: JobRoleInterest, dtype: float64\n"
     ]
    },
    {
     "data": {
      "text/plain": [
       "([<matplotlib.axis.XTick at 0x7feff1821e80>,\n",
       "  <matplotlib.axis.XTick at 0x7feff18219e8>],\n",
       " <a list of 2 Text xticklabel objects>)"
      ]
     },
     "execution_count": 87,
     "metadata": {},
     "output_type": "execute_result"
    },
    {
     "data": {
      "image/png": "[encoded data removed]",
      "text/plain": [
       "<matplotlib.figure.Figure at 0x7feff1bde208>"
      ]
     },
     "metadata": {},
     "output_type": "display_data"
    }
   ],
   "source": [
    "print(nonullinterest.str.contains(\"Web|Mobile\").value_counts(normalize=True)*100)\n",
    "\n",
    "import matplotlib.pyplot as plt\n",
    "%matplotlib inline\n",
    "(nonullinterest.str.contains(\"Web|Mobile\").value_counts(normalize=True)*100).plot.bar()\n",
    "plt.title(\"Interest in Web and Mobile\")\n",
    "plt.ylim(0,100)\n",
    "plt.ylabel(\"Percentage\")\n",
    "plt.xticks([0,1],[\"Web and Mobile\",\"Others\"],rotation=0)"
   ]
  },
  {
   "cell_type": "markdown",
   "metadata": {},
   "source": [
    "86.3% students have interest in at least one of Web or Mobile development."
   ]
  },
  {
   "cell_type": "code",
   "execution_count": 88,
   "metadata": {
    "collapsed": false,
    "scrolled": true
   },
   "outputs": [
    {
     "data": {
      "text/plain": [
       "United States of America         3125\n",
       "India                             528\n",
       "United Kingdom                    315\n",
       "Canada                            260\n",
       "Poland                            131\n",
       "Brazil                            129\n",
       "Germany                           125\n",
       "Australia                         112\n",
       "Russia                            102\n",
       "Ukraine                            89\n",
       "Nigeria                            84\n",
       "Spain                              77\n",
       "France                             75\n",
       "Romania                            71\n",
       "Netherlands (Holland, Europe)      65\n",
       "Italy                              62\n",
       "Philippines                        52\n",
       "Serbia                             52\n",
       "Greece                             46\n",
       "Ireland                            43\n",
       "South Africa                       39\n",
       "Mexico                             37\n",
       "Turkey                             36\n",
       "Hungary                            34\n",
       "Singapore                          34\n",
       "New Zealand                        33\n",
       "Croatia                            32\n",
       "Argentina                          32\n",
       "Sweden                             31\n",
       "Pakistan                           31\n",
       "                                 ... \n",
       "Bolivia                             1\n",
       "Panama                              1\n",
       "Channel Islands                     1\n",
       "Qatar                               1\n",
       "Myanmar                             1\n",
       "Yemen                               1\n",
       "Cayman Islands                      1\n",
       "Kyrgyzstan                          1\n",
       "Samoa                               1\n",
       "Trinidad & Tobago                   1\n",
       "Anguilla                            1\n",
       "Botswana                            1\n",
       "Cuba                                1\n",
       "Cameroon                            1\n",
       "Liberia                             1\n",
       "Gibraltar                           1\n",
       "Guatemala                           1\n",
       "Nicaragua                           1\n",
       "Somalia                             1\n",
       "Guadeloupe                          1\n",
       "Turkmenistan                        1\n",
       "Vanuatu                             1\n",
       "Gambia                              1\n",
       "Aruba                               1\n",
       "Nambia                              1\n",
       "Papua New Guinea                    1\n",
       "Jordan                              1\n",
       "Mozambique                          1\n",
       "Rwanda                              1\n",
       "Sudan                               1\n",
       "Name: CountryLive, Length: 137, dtype: int64"
      ]
     },
     "execution_count": 88,
     "metadata": {},
     "output_type": "execute_result"
    }
   ],
   "source": [
    "surveyinterest = survey.dropna(subset=[\"JobRoleInterest\"])\n",
    "surveyinterest[\"CountryLive\"].value_counts()"
   ]
  },
  {
   "cell_type": "code",
   "execution_count": 89,
   "metadata": {
    "collapsed": false,
    "scrolled": true
   },
   "outputs": [
    {
     "data": {
      "text/plain": [
       "United States of America         45.700497\n",
       "India                             7.721556\n",
       "United Kingdom                    4.606610\n",
       "Canada                            3.802281\n",
       "Poland                            1.915765\n",
       "Brazil                            1.886517\n",
       "Germany                           1.828020\n",
       "Australia                         1.637906\n",
       "Russia                            1.491664\n",
       "Ukraine                           1.301550\n",
       "Nigeria                           1.228429\n",
       "Spain                             1.126060\n",
       "France                            1.096812\n",
       "Romania                           1.038315\n",
       "Netherlands (Holland, Europe)     0.950570\n",
       "Italy                             0.906698\n",
       "Philippines                       0.760456\n",
       "Serbia                            0.760456\n",
       "Greece                            0.672711\n",
       "Ireland                           0.628839\n",
       "South Africa                      0.570342\n",
       "Mexico                            0.541094\n",
       "Turkey                            0.526470\n",
       "Hungary                           0.497221\n",
       "Singapore                         0.497221\n",
       "New Zealand                       0.482597\n",
       "Croatia                           0.467973\n",
       "Argentina                         0.467973\n",
       "Sweden                            0.453349\n",
       "Pakistan                          0.453349\n",
       "                                   ...    \n",
       "Bolivia                           0.014624\n",
       "Panama                            0.014624\n",
       "Channel Islands                   0.014624\n",
       "Qatar                             0.014624\n",
       "Myanmar                           0.014624\n",
       "Yemen                             0.014624\n",
       "Cayman Islands                    0.014624\n",
       "Kyrgyzstan                        0.014624\n",
       "Samoa                             0.014624\n",
       "Trinidad & Tobago                 0.014624\n",
       "Anguilla                          0.014624\n",
       "Botswana                          0.014624\n",
       "Cuba                              0.014624\n",
       "Cameroon                          0.014624\n",
       "Liberia                           0.014624\n",
       "Gibraltar                         0.014624\n",
       "Guatemala                         0.014624\n",
       "Nicaragua                         0.014624\n",
       "Somalia                           0.014624\n",
       "Guadeloupe                        0.014624\n",
       "Turkmenistan                      0.014624\n",
       "Vanuatu                           0.014624\n",
       "Gambia                            0.014624\n",
       "Aruba                             0.014624\n",
       "Nambia                            0.014624\n",
       "Papua New Guinea                  0.014624\n",
       "Jordan                            0.014624\n",
       "Mozambique                        0.014624\n",
       "Rwanda                            0.014624\n",
       "Sudan                             0.014624\n",
       "Name: CountryLive, Length: 137, dtype: float64"
      ]
     },
     "execution_count": 89,
     "metadata": {},
     "output_type": "execute_result"
    }
   ],
   "source": [
    "surveyinterest[\"CountryLive\"].value_counts(normalize=True)*100"
   ]
  },
  {
   "cell_type": "markdown",
   "metadata": {},
   "source": [
    "45% of interested people are living in United States of America. Followed up by India, far below USA at 7.7%, UK at 4.6%.\n",
    "Its best to find out next the spending power of these potential customers."
   ]
  },
  {
   "cell_type": "code",
   "execution_count": 90,
   "metadata": {
    "collapsed": false
   },
   "outputs": [],
   "source": [
    "topcountriesinterest = surveyinterest[(surveyinterest.CountryLive == \"United States of America\")\n",
    "              | (surveyinterest.CountryLive == \"India\")\n",
    "              | (surveyinterest.CountryLive == \"United Kingdom\")\n",
    "              | (surveyinterest.CountryLive == \"Canada\")].copy()"
   ]
  },
  {
   "cell_type": "code",
   "execution_count": 91,
   "metadata": {
    "collapsed": false
   },
   "outputs": [
    {
     "data": {
      "text/plain": [
       "CountryLive\n",
       "United States of America    227.997996\n",
       "India                       135.100982\n",
       "Canada                      113.510961\n",
       "United Kingdom               45.534443\n",
       "Name: SpendPerMonth, dtype: float64"
      ]
     },
     "execution_count": 91,
     "metadata": {},
     "output_type": "execute_result"
    }
   ],
   "source": [
    "topcountriesinterest[\"SpendPerMonth\"] = topcountriesinterest[\"MoneyForLearning\"] / topcountriesinterest[\"MonthsProgramming\"].replace(0.0,1.0)\n",
    "topcountriesinterest = topcountriesinterest.dropna(subset=[\"CountryLive\",\"SpendPerMonth\"])\n",
    "topcountriesinterest.groupby(\"CountryLive\").mean()[\"SpendPerMonth\"].sort_values(ascending=False)"
   ]
  },
  {
   "cell_type": "markdown",
   "metadata": {},
   "source": [
    "It is surprising to find that countries with higher GDP per capita like UK and Canada has a lower spending India. The data might be innacurate. India's spending data might be too high, or UK and Canada too low."
   ]
  },
  {
   "cell_type": "code",
   "execution_count": 92,
   "metadata": {
    "collapsed": false,
    "scrolled": false
   },
   "outputs": [
    {
     "name": "stderr",
     "output_type": "stream",
     "text": [
      "/dataquest/system/env/python3/lib/python3.4/site-packages/seaborn/categorical.py:454: FutureWarning:\n",
      "\n",
      "remove_na is deprecated and is a private function. Do not use.\n",
      "\n"
     ]
    },
    {
     "data": {
      "text/plain": [
       "([<matplotlib.axis.XTick at 0x7feff17d9f60>,\n",
       "  <matplotlib.axis.XTick at 0x7feff17d9978>,\n",
       "  <matplotlib.axis.XTick at 0x7feff12f78d0>,\n",
       "  <matplotlib.axis.XTick at 0x7feff12cc710>],\n",
       " <a list of 4 Text xticklabel objects>)"
      ]
     },
     "execution_count": 92,
     "metadata": {},
     "output_type": "execute_result"
    },
    {
     "data": {
      "image/png": "[encoded data removed]",
      "text/plain": [
       "<matplotlib.figure.Figure at 0x7feff11c6f60>"
      ]
     },
     "metadata": {},
     "output_type": "display_data"
    }
   ],
   "source": [
    "import seaborn as sns\n",
    "sns.boxplot(x=\"CountryLive\", y=\"SpendPerMonth\", data=topcountriesinterest)\n",
    "plt.ylim(0,17500)\n",
    "plt.title(\"4 Countries Spending per Mo\")\n",
    "plt.ylabel(\"Spending per Month (USD)\")\n",
    "plt.xlabel(\"Countries\")\n",
    "plt.xticks(range(4), [\"USA\",\"UK\",\"India\",\"Canada\"])"
   ]
  },
  {
   "cell_type": "code",
   "execution_count": 93,
   "metadata": {
    "collapsed": false,
    "scrolled": true
   },
   "outputs": [],
   "source": [
    "#Remove USA respondents who spends more than 6000 USD per month and either didn't attend bootcamp or has have less than 3 months programming experience.\n",
    "usoutlier = topcountriesinterest[(topcountriesinterest.CountryLive == \"United States of America\")\n",
    "& (topcountriesinterest.SpendPerMonth >= 6000)\n",
    "& ((topcountriesinterest.AttendedBootcamp == 0)\n",
    "   | (topcountriesinterest.MonthsProgramming <= 3))]\n",
    "\n",
    "topcountriesinterest.drop(usoutlier.index, inplace=True)"
   ]
  },
  {
   "cell_type": "code",
   "execution_count": 95,
   "metadata": {
    "collapsed": false
   },
   "outputs": [],
   "source": [
    "#Remove India respondents who spends more than 2500 USD per month\n",
    "indiaoutlier = topcountriesinterest[(topcountriesinterest.SpendPerMonth >= 2500)\n",
    "                                   & (topcountriesinterest.CountryLive == \"India\")]\n",
    "\n",
    "topcountriesinterest.drop(indiaoutlier.index, inplace=True)"
   ]
  },
  {
   "cell_type": "code",
   "execution_count": 99,
   "metadata": {
    "collapsed": false
   },
   "outputs": [],
   "source": [
    "#Remove Canada respondents who spends more than 4500 USD per month\n",
    "canadaoutlier = topcountriesinterest[(topcountriesinterest.CountryLive == \"Canada\")\n",
    "                                    & (topcountriesinterest.SpendPerMonth >= 4500)]\n",
    "\n",
    "topcountriesinterest.drop(canadaoutlier.index, inplace=True)"
   ]
  },
  {
   "cell_type": "code",
   "execution_count": 106,
   "metadata": {
    "collapsed": false
   },
   "outputs": [
    {
     "name": "stderr",
     "output_type": "stream",
     "text": [
      "/dataquest/system/env/python3/lib/python3.4/site-packages/seaborn/categorical.py:454: FutureWarning:\n",
      "\n",
      "remove_na is deprecated and is a private function. Do not use.\n",
      "\n"
     ]
    },
    {
     "name": "stdout",
     "output_type": "stream",
     "text": [
      "CountryLive\n",
      "Canada                       93.065400\n",
      "India                        65.758763\n",
      "United Kingdom               45.534443\n",
      "United States of America    142.654608\n",
      "Name: SpendPerMonth, dtype: float64\n"
     ]
    },
    {
     "data": {
      "image/png": "[encoded data removed]",
      "text/plain": [
       "<matplotlib.figure.Figure at 0x7fefe12713c8>"
      ]
     },
     "metadata": {},
     "output_type": "display_data"
    }
   ],
   "source": [
    "sns.boxplot(x=\"CountryLive\", y=\"SpendPerMonth\",data=topcountriesinterest)\n",
    "plt.xticks(range(4), [\"USA\",\"UK\",\"India\",\"Canada\"])\n",
    "print(topcountriesinterest.groupby(\"CountryLive\").mean()[\"SpendPerMonth\"])"
   ]
  },
  {
   "cell_type": "markdown",
   "metadata": {},
   "source": [
    "After removing the outliers, the two best countries to choose for advertisement are USA followed by Canada."
   ]
  },
  {
   "cell_type": "code",
   "execution_count": 108,
   "metadata": {
    "collapsed": false
   },
   "outputs": [
    {
     "data": {
      "text/plain": [
       "United States of America    74.967908\n",
       "India                       11.732991\n",
       "United Kingdom               7.163030\n",
       "Canada                       6.136072\n",
       "Name: CountryLive, dtype: float64"
      ]
     },
     "execution_count": 108,
     "metadata": {},
     "output_type": "execute_result"
    }
   ],
   "source": [
    "topcountriesinterest.CountryLive.value_counts(normalize=True)*100"
   ]
  },
  {
   "cell_type": "markdown",
   "metadata": {},
   "source": [
    "Even though Canada has higher mean spending per month than India, India has a larger number of potential customers.\n",
    "India's spending per month is also above the price of our program.\n",
    "\n",
    "USA is definitely a market to advertise in.\n",
    "But whether to advertise in India and Canada, or just either one of them, and at whatever budget allocation, is a decision to be made by the marketing team in our company."
   ]
  },
  {
   "cell_type": "markdown",
   "metadata": {},
   "source": [
    "In this project, we analyzed survey data from new coders to find the best two markets to advertise in. The only solid conclusion we reached is that the US would be a good market to advertise in.\n",
    "\n",
    "For the second best market, it wasn't clear-cut what to choose between India and Canada. We decided to send the results to the marketing team so they can use their domain knowledge to take the best decision."
   ]
  },
  {
   "cell_type": "code",
   "execution_count": null,
   "metadata": {
    "collapsed": true
   },
   "outputs": [],
   "source": []
  }
 ],
 "metadata": {
  "kernelspec": {
   "display_name": "Python 3",
   "language": "python",
   "name": "python3"
  },
  "language_info": {
   "codemirror_mode": {
    "name": "ipython",
    "version": 3
   },
   "file_extension": ".py",
   "mimetype": "text/x-python",
   "name": "python",
   "nbconvert_exporter": "python",
   "pygments_lexer": "ipython3",
   "version": "3.4.3"
  }
 },
 "nbformat": 4,
 "nbformat_minor": 2
}
