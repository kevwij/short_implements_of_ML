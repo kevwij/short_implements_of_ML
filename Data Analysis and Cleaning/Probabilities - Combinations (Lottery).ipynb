{
 "cells": [
  {
   "cell_type": "markdown",
   "metadata": {},
   "source": [
    "# Probability - Lottery\n",
    "\n",
    "A medical institute that aims to prevent and treat gambling addictions wants to build a dedicated mobile app to help lottery addicts better estimate their chances of winning. The institute has a team of engineers that will build the app, but they need us to create the logical core of the app and calculate probabilities.\n",
    "\n",
    "For the first version of the app, they want us to focus on the 6/49 lottery and build functions that enable users to answer questions like:\n",
    "\n",
    "- What is the probability of winning the big prize with a single ticket?\n",
    "- What is the probability of winning the big prize if we play 40 different tickets (or any other number)?\n",
    "- What is the probability of having at least five (or four, or three, or two) winning numbers on a single ticket?"
   ]
  },
  {
   "cell_type": "code",
   "execution_count": 1,
   "metadata": {
    "collapsed": true
   },
   "outputs": [],
   "source": [
    "def factorial(n):\n",
    "    res = 1\n",
    "    for i in range(n,0,-1):\n",
    "        res = res * i\n",
    "    return res\n",
    "\n",
    "def permutations(n, k):\n",
    "    return factorial(n) / factorial(n-k)\n",
    "\n",
    "def combinations(n, k):\n",
    "    return factorial(n) / (factorial(k) * factorial(n-k))"
   ]
  },
  {
   "cell_type": "code",
   "execution_count": 2,
   "metadata": {
    "collapsed": false
   },
   "outputs": [
    {
     "data": {
      "text/plain": [
       "'Your chance of winning is only 0.00000715%. Meaning you will win 1 time out of 13,983,816 tries.'"
      ]
     },
     "execution_count": 2,
     "metadata": {},
     "output_type": "execute_result"
    }
   ],
   "source": [
    "def one_ticket_probability(nums):\n",
    "    coun = len(nums)\n",
    "    combi = combinations(49, coun)\n",
    "    chance = 1 / combi * 100\n",
    "    return \"Your chance of winning is only {0:.8f}%. Meaning you will win 1 time out of {1:,.0f} tries.\".format(chance, combi)\n",
    "\n",
    "one_ticket_probability([1,45,42,6,16,25])"
   ]
  },
  {
   "cell_type": "code",
   "execution_count": 3,
   "metadata": {
    "collapsed": false
   },
   "outputs": [
    {
     "name": "stdout",
     "output_type": "stream",
     "text": [
      "(3665, 11)\n"
     ]
    }
   ],
   "source": [
    "import pandas as pd\n",
    "lotterydata = pd.read_csv(\"649.csv\")\n",
    "print(lotterydata.shape)"
   ]
  },
  {
   "cell_type": "code",
   "execution_count": 4,
   "metadata": {
    "collapsed": false
   },
   "outputs": [
    {
     "name": "stdout",
     "output_type": "stream",
     "text": [
      "   PRODUCT  DRAW NUMBER  SEQUENCE NUMBER  DRAW DATE  NUMBER DRAWN 1  \\\n",
      "0      649            1                0  6/12/1982               3   \n",
      "1      649            2                0  6/19/1982               8   \n",
      "2      649            3                0  6/26/1982               1   \n",
      "\n",
      "   NUMBER DRAWN 2  NUMBER DRAWN 3  NUMBER DRAWN 4  NUMBER DRAWN 5  \\\n",
      "0              11              12              14              41   \n",
      "1              33              36              37              39   \n",
      "2               6              23              24              27   \n",
      "\n",
      "   NUMBER DRAWN 6  BONUS NUMBER  \n",
      "0              43            13  \n",
      "1              41             9  \n",
      "2              39            34  \n"
     ]
    }
   ],
   "source": [
    "print(lotterydata.head(3))"
   ]
  },
  {
   "cell_type": "code",
   "execution_count": 5,
   "metadata": {
    "collapsed": false
   },
   "outputs": [
    {
     "name": "stdout",
     "output_type": "stream",
     "text": [
      "      PRODUCT  DRAW NUMBER  SEQUENCE NUMBER  DRAW DATE  NUMBER DRAWN 1  \\\n",
      "3662      649         3589                0  6/13/2018               6   \n",
      "3663      649         3590                0  6/16/2018               2   \n",
      "3664      649         3591                0  6/20/2018              14   \n",
      "\n",
      "      NUMBER DRAWN 2  NUMBER DRAWN 3  NUMBER DRAWN 4  NUMBER DRAWN 5  \\\n",
      "3662              22              24              31              32   \n",
      "3663              15              21              31              38   \n",
      "3664              24              31              35              37   \n",
      "\n",
      "      NUMBER DRAWN 6  BONUS NUMBER  \n",
      "3662              34            16  \n",
      "3663              49             8  \n",
      "3664              48            17  \n"
     ]
    }
   ],
   "source": [
    "print(lotterydata.tail(3))"
   ]
  },
  {
   "cell_type": "code",
   "execution_count": 6,
   "metadata": {
    "collapsed": false,
    "scrolled": true
   },
   "outputs": [
    {
     "data": {
      "text/plain": [
       "0        {3, 41, 11, 12, 43, 14}\n",
       "1        {33, 36, 37, 39, 8, 41}\n",
       "2         {1, 6, 39, 23, 24, 27}\n",
       "3         {3, 9, 10, 43, 13, 20}\n",
       "4        {34, 5, 14, 47, 21, 31}\n",
       "5        {8, 41, 20, 21, 25, 31}\n",
       "6       {33, 36, 42, 18, 25, 28}\n",
       "7        {7, 40, 16, 17, 48, 31}\n",
       "8        {5, 38, 37, 10, 23, 27}\n",
       "9        {4, 37, 46, 15, 48, 30}\n",
       "10        {33, 38, 7, 9, 42, 21}\n",
       "11      {36, 11, 43, 17, 19, 20}\n",
       "12       {37, 7, 14, 47, 17, 20}\n",
       "13      {35, 44, 25, 28, 29, 30}\n",
       "14       {36, 39, 8, 41, 47, 18}\n",
       "15       {9, 12, 13, 14, 44, 48}\n",
       "16       {4, 40, 43, 44, 14, 18}\n",
       "17      {34, 35, 36, 13, 16, 18}\n",
       "18      {36, 11, 23, 25, 28, 29}\n",
       "19       {37, 7, 45, 18, 23, 25}\n",
       "20      {37, 11, 45, 18, 19, 31}\n",
       "21       {8, 14, 16, 48, 18, 31}\n",
       "22       {4, 11, 45, 23, 24, 25}\n",
       "23        {33, 34, 3, 4, 48, 19}\n",
       "24       {5, 43, 17, 21, 28, 30}\n",
       "25       {36, 6, 38, 46, 17, 24}\n",
       "26        {4, 9, 10, 11, 43, 46}\n",
       "27       {32, 33, 7, 13, 45, 23}\n",
       "28      {35, 37, 11, 18, 22, 28}\n",
       "29      {35, 45, 48, 25, 26, 31}\n",
       "                  ...           \n",
       "3635     {2, 10, 43, 44, 48, 28}\n",
       "3636      {1, 33, 9, 10, 43, 19}\n",
       "3637    {35, 43, 44, 46, 16, 17}\n",
       "3638       {1, 5, 39, 9, 41, 12}\n",
       "3639     {9, 11, 45, 49, 28, 30}\n",
       "3640    {11, 12, 46, 19, 24, 28}\n",
       "3641      {3, 7, 43, 47, 22, 26}\n",
       "3642       {34, 6, 8, 9, 40, 13}\n",
       "3643    {36, 40, 47, 49, 18, 22}\n",
       "3644      {32, 3, 7, 41, 10, 43}\n",
       "3645     {1, 36, 11, 48, 49, 19}\n",
       "3646    {39, 12, 17, 19, 22, 27}\n",
       "3647    {41, 12, 49, 19, 20, 30}\n",
       "3648    {40, 10, 46, 14, 16, 15}\n",
       "3649    {33, 34, 44, 46, 24, 31}\n",
       "3650      {4, 37, 36, 7, 49, 28}\n",
       "3651     {33, 4, 48, 18, 24, 26}\n",
       "3652    {36, 37, 15, 17, 21, 24}\n",
       "3653     {34, 37, 6, 44, 17, 21}\n",
       "3654    {39, 46, 19, 21, 28, 30}\n",
       "3655    {34, 38, 44, 14, 15, 28}\n",
       "3656      {4, 9, 42, 44, 15, 20}\n",
       "3657    {39, 12, 13, 44, 16, 23}\n",
       "3658     {38, 39, 9, 14, 17, 21}\n",
       "3659     {32, 2, 40, 45, 49, 26}\n",
       "3660    {38, 40, 41, 10, 15, 23}\n",
       "3661    {36, 46, 47, 19, 25, 31}\n",
       "3662     {32, 34, 6, 22, 24, 31}\n",
       "3663     {2, 38, 15, 49, 21, 31}\n",
       "3664    {35, 37, 14, 48, 24, 31}\n",
       "Name: Win Nums, Length: 3665, dtype: object"
      ]
     },
     "execution_count": 6,
     "metadata": {},
     "output_type": "execute_result"
    }
   ],
   "source": [
    "def extract_numbers():\n",
    "    lotterydata[\"Win Nums\"] = lotterydata[[\"NUMBER DRAWN 1\", \"NUMBER DRAWN 2\", \"NUMBER DRAWN 3\", \"NUMBER DRAWN 4\", \"NUMBER DRAWN 5\", \"NUMBER DRAWN 6\"]].values.tolist()\n",
    "    lotterydata[\"Win Nums\"] = lotterydata[\"Win Nums\"].apply(lambda x: set(x))\n",
    "    return lotterydata[\"Win Nums\"]\n",
    "\n",
    "extract_numbers()"
   ]
  },
  {
   "cell_type": "code",
   "execution_count": 7,
   "metadata": {
    "collapsed": false
   },
   "outputs": [
    {
     "name": "stdout",
     "output_type": "stream",
     "text": [
      "Your chosen numbers occured 1 time(s) in the past.\n",
      "Your chance of winning is 0.00000715%.\n",
      "Meaning, you will win 1 time out of 13,983,816 tries.\n"
     ]
    }
   ],
   "source": [
    "def check_historical_occurence(nums, hist):\n",
    "    chosen = set(nums)\n",
    "    times = sum(chosen == hist)\n",
    "    print(\"Your chosen numbers occured {} time(s) in the past.\\nYour chance of winning is 0.00000715%.\\nMeaning, you will win 1 time out of 13,983,816 tries.\".format(times))\n",
    "    \n",
    "check_historical_occurence([6,22,24,31,32,34], extract_numbers())"
   ]
  },
  {
   "cell_type": "code",
   "execution_count": 8,
   "metadata": {
    "collapsed": false
   },
   "outputs": [
    {
     "name": "stdout",
     "output_type": "stream",
     "text": [
      "You have 2 ticket(s). Your chance of winning is 0.00001430%.\n",
      "Meaning, your chance of winning is 1 time out of 6,991,908 tries.\n"
     ]
    }
   ],
   "source": [
    "def multi_ticket_probability(ticks):\n",
    "    times = combinations(49,6) / ticks\n",
    "    chance = ticks / combinations(49,6) * 100\n",
    "    print(\"You have {} ticket(s). Your chance of winning is {:.8f}%.\\nMeaning, your chance of winning is 1 time out of {:,.0f} tries.\".format(ticks, chance, times))\n",
    "    \n",
    "multi_ticket_probability(2)"
   ]
  },
  {
   "cell_type": "code",
   "execution_count": 9,
   "metadata": {
    "collapsed": false,
    "scrolled": true
   },
   "outputs": [
    {
     "name": "stdout",
     "output_type": "stream",
     "text": [
      "You have 1 ticket(s). Your chance of winning is 0.00000715%.\n",
      "Meaning, your chance of winning is 1 time out of 13,983,816 tries.\n",
      "\n",
      "\n",
      "You have 10 ticket(s). Your chance of winning is 0.00007151%.\n",
      "Meaning, your chance of winning is 1 time out of 1,398,382 tries.\n",
      "\n",
      "\n",
      "You have 100 ticket(s). Your chance of winning is 0.00071511%.\n",
      "Meaning, your chance of winning is 1 time out of 139,838 tries.\n",
      "\n",
      "\n",
      "You have 10000 ticket(s). Your chance of winning is 0.07151124%.\n",
      "Meaning, your chance of winning is 1 time out of 1,398 tries.\n",
      "\n",
      "\n",
      "You have 1000000 ticket(s). Your chance of winning is 7.15112384%.\n",
      "Meaning, your chance of winning is 1 time out of 14 tries.\n",
      "\n",
      "\n",
      "You have 6991908 ticket(s). Your chance of winning is 50.00000000%.\n",
      "Meaning, your chance of winning is 1 time out of 2 tries.\n",
      "\n",
      "\n",
      "You have 13983816 ticket(s). Your chance of winning is 100.00000000%.\n",
      "Meaning, your chance of winning is 1 time out of 1 tries.\n",
      "\n",
      "\n"
     ]
    }
   ],
   "source": [
    "for i in [1, 10, 100, 10000, 1000000, 6991908, 13983816]:\n",
    "    multi_ticket_probability(i)\n",
    "    print(\"\\n\")"
   ]
  },
  {
   "cell_type": "markdown",
   "metadata": {},
   "source": [
    "We want to create a function that calculates the probability of x number of winning number.\n",
    "For example, x = 4.\n",
    "What are the chances that out of the 6 numbers we chose, 4 of them is a winning number?\n",
    "or\n",
    "What are the chances that when the winning numbers are announced, 4 of the numbers are our numbers?\n",
    "\n",
    "To understand the chain of thought of this solution, imagine there's a list containing all the possible combinations of 49 numbers choose 6.\n",
    "All 13,983,816 sets (possibilities, combinations) in a list.\n",
    "From this big list, only 1 is a winning set.\n",
    "That winning set consist of 6 correct numbers.\n",
    "\n",
    "It's important to imagine as if we know what the 6 winning numbers are.\n",
    "\n",
    "Suppose, for example sake, we choose the probability of winning 4 numbers out of 6 choices.\n",
    "Imagine there's a shaded area in the list where 4 of the numbers are found in the winning set's numbers, and 2 of the number doesn't win.\n",
    "Q: Meaning, how many combinations can we make 4 winning combinations from total winning numbers (6). 6 choose 4.\n",
    "A: 15. There are 15 ways we can re-arrange the 6 winning numbers into 4 unique winning numbers.\n",
    "\n",
    "So, how many other combinations can these 15 sets of 4-winning-numbers have?\n",
    "2 other number are missing, and there are 43 other choices.\n",
    "Why 43? Because 49 total numbers - 4 winning numbers - 2 losing number = 43.\n",
    "\n",
    "So, we need to multiply 15 to the number of combinations that can be formed for 2 losing numbers.\n",
    "Q: How many combinations can we make 2 losing numbers from total losing numbers (43). 43 choose 2.\n",
    "A: 43 numbers choose 2 is 903 sets (possibilities).\n",
    "So, 15 * 903 = 13,545 possibilities of 4 winning numbers and 2 losing number unique combinations.\n",
    "13,545 divided by all the possibilities of 6 numbers (13,983,816) is the probability of having exactly 5 winning numbers. (0.096862%)\n",
    "Bravo. Cheers. Voila."
   ]
  },
  {
   "cell_type": "code",
   "execution_count": 40,
   "metadata": {
    "collapsed": false
   },
   "outputs": [
    {
     "name": "stdout",
     "output_type": "stream",
     "text": [
      "Probability to win 5 numbers\n",
      "0.00184499%\n",
      "--------------\n",
      "Probability to win 4 numbers\n",
      "0.09686197%\n",
      "--------------\n",
      "Probability to win 3 numbers\n",
      "1.76504039%\n",
      "--------------\n",
      "Probability to win 2 numbers\n",
      "13.23780290%\n",
      "--------------\n"
     ]
    }
   ],
   "source": [
    "def probability_less_6(num):\n",
    "    if num > 1 & num < 6:\n",
    "        combiwin = combinations(6,num)\n",
    "        combilose = combinations (43, 6-num)\n",
    "        probability = combiwin * combilose / combinations(49,6)\n",
    "        print(\"{:.8f}%\".format(probability * 100))\n",
    "    else:\n",
    "        print(\"Please enter integer number between 2 and 5\")\n",
    "        \n",
    "for i in [5,4,3,2]:\n",
    "    print(\"Probability to win {} numbers\".format(i))\n",
    "    probability_less_6(i)\n",
    "    print(\"--------------\")"
   ]
  },
  {
   "cell_type": "code",
   "execution_count": null,
   "metadata": {
    "collapsed": true
   },
   "outputs": [],
   "source": []
  }
 ],
 "metadata": {
  "kernelspec": {
   "display_name": "Python 3",
   "language": "python",
   "name": "python3"
  },
  "language_info": {
   "codemirror_mode": {
    "name": "ipython",
    "version": 3
   },
   "file_extension": ".py",
   "mimetype": "text/x-python",
   "name": "python",
   "nbconvert_exporter": "python",
   "pygments_lexer": "ipython3",
   "version": "3.4.3"
  }
 },
 "nbformat": 4,
 "nbformat_minor": 2
}
